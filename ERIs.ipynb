{
 "cells": [
  {
   "cell_type": "markdown",
   "id": "640d2b0f",
   "metadata": {},
   "source": [
    "# Funciones Iniciales"
   ]
  },
  {
   "cell_type": "code",
   "execution_count": 1,
   "id": "f1560c9e",
   "metadata": {},
   "outputs": [],
   "source": [
    "using HypergeometricFunctions\n",
    "using LinearAlgebra"
   ]
  },
  {
   "cell_type": "code",
   "execution_count": 2,
   "id": "eee3f551",
   "metadata": {},
   "outputs": [
    {
     "data": {
      "text/plain": [
       "doublefactorial (generic function with 1 method)"
      ]
     },
     "execution_count": 2,
     "metadata": {},
     "output_type": "execute_result"
    }
   ],
   "source": [
    "function doublefactorial(n)\n",
    "    if (n <= 1)\n",
    "        return 1\n",
    "    end\n",
    "    return n * doublefactorial(n - 2)\n",
    "end"
   ]
  },
  {
   "cell_type": "code",
   "execution_count": 3,
   "id": "fe05f5ad",
   "metadata": {},
   "outputs": [
    {
     "data": {
      "text/plain": [
       "F_n (generic function with 1 method)"
      ]
     },
     "execution_count": 3,
     "metadata": {},
     "output_type": "execute_result"
    }
   ],
   "source": [
    "F_n(n,x) = HypergeometricFunctions.M(n+1/2,n+3/2,-x)/(2*n+1)"
   ]
  },
  {
   "cell_type": "markdown",
   "id": "97a95f6c",
   "metadata": {},
   "source": [
    "## Shell"
   ]
  },
  {
   "cell_type": "code",
   "execution_count": 4,
   "id": "a53c65c5",
   "metadata": {},
   "outputs": [
    {
     "data": {
      "text/plain": [
       "normalized_shell (generic function with 1 method)"
      ]
     },
     "execution_count": 4,
     "metadata": {},
     "output_type": "execute_result"
    }
   ],
   "source": [
    "struct shell\n",
    "    l::Int8\n",
    "    exp::Array{Float64}\n",
    "    coef::Array{Float64}\n",
    "    coord::Array{Float64}\n",
    "    N::Array{Float64}\n",
    "    orientaciones::Array{Array{Int}}\n",
    "end\n",
    "\n",
    "shell(l, exp, coef, coord) = shell(l, exp, coef, coord, ones(Int((l+1)*(l+2)/2)),[[lx,ly,l-lx-ly] for lx in l:-1:0 for ly in l-lx:-1:0])\n",
    "\n",
    "function normalized_shell(l,exp,coef,coord)\n",
    "\n",
    "    #normalizacion\n",
    "    for i in eachindex(exp)\n",
    "        coef[i] = coef[i]*(2*exp[i]/pi)^(3/4)*(4*exp[i])^(l/2)\n",
    "    end\n",
    "    \n",
    "    norm = 0\n",
    "    for j in eachindex(exp)\n",
    "        for k in eachindex(exp)\n",
    "            norm += coef[j]*coef[k]*(pi/(exp[j]+exp[k]))^(3/2)/(2*(exp[j]+exp[k]))^(l)\n",
    "        end\n",
    "    end\n",
    "\n",
    "    for i in eachindex(exp)\n",
    "        coef[i] = coef[i]/sqrt(norm)\n",
    "    end\n",
    "        \n",
    "    orientaciones = []\n",
    "    for lx in l:-1:0\n",
    "        for ly in l-lx:-1:0\n",
    "            lz = l-lx-ly\n",
    "            append!(orientaciones,[[lx,ly,lz]])      \n",
    "        end\n",
    "    end        \n",
    "\n",
    "    N = ones(Int((l+1)*(l+2)/2))\n",
    "    for (i,(lx,ly,lz)) in enumerate(orientaciones)\n",
    "        N[i] = sqrt(1/(doublefactorial(2*lx-1)*doublefactorial(2*ly-1)*doublefactorial(2*lz-1)))\n",
    "    end\n",
    "    \n",
    "    return shell(l, exp, coef, coord, N, orientaciones)\n",
    "    \n",
    "end"
   ]
  },
  {
   "cell_type": "code",
   "execution_count": 5,
   "id": "bb6c1d8e",
   "metadata": {},
   "outputs": [
    {
     "data": {
      "text/plain": [
       "shell(0, [0.3, 0.4], [0.13963711261732617, 0.18659052894127096], [2.0, 2.0, 2.0], [1.0], Array{Int64}[[0, 0, 0]])"
      ]
     },
     "execution_count": 5,
     "metadata": {},
     "output_type": "execute_result"
    }
   ],
   "source": [
    "g_a = normalized_shell(0,[0.1,0.2],[1.1,1.2],[1.0,1.0,1.0])\n",
    "g_b = normalized_shell(0,[0.3,0.4],[1.3,1.4],[2.0,2.0,2.0])"
   ]
  },
  {
   "cell_type": "code",
   "execution_count": 7,
   "id": "8a23ba72",
   "metadata": {},
   "outputs": [
    {
     "data": {
      "text/plain": [
       "shell(1, [0.5, 0.7], [1.0, 1.0], [1.0, 1.5, 2.0], [1.0, 1.0, 1.0], Array{Int64}[[1, 0, 0], [0, 1, 0], [0, 0, 1]])"
      ]
     },
     "execution_count": 7,
     "metadata": {},
     "output_type": "execute_result"
    }
   ],
   "source": [
    "g_a = shell(1,[0.5,0.7],[1.0,1.0],[1.0,1.5,2.0])"
   ]
  },
  {
   "cell_type": "markdown",
   "id": "4b2ea208",
   "metadata": {},
   "source": [
    "## Shell Pair"
   ]
  },
  {
   "cell_type": "code",
   "execution_count": 7,
   "id": "de2bd0f6",
   "metadata": {},
   "outputs": [
    {
     "data": {
      "text/plain": [
       "build_shell_pair (generic function with 1 method)"
      ]
     },
     "execution_count": 7,
     "metadata": {},
     "output_type": "execute_result"
    }
   ],
   "source": [
    "struct shell_pair\n",
    "    \n",
    "    g_a::shell\n",
    "    g_b::shell\n",
    "    \n",
    "    exp::Array{Float64}\n",
    "    coef::Array{Float64}\n",
    "    coord::Array{Array{Float64}}\n",
    "    alpha::Array{Float64}\n",
    "    \n",
    "end\n",
    "    \n",
    "function build_shell_pair(g_a, g_b)\n",
    "    exp = vec((g_a.exp .+ g_b.exp')')\n",
    "    coef = vec((g_a.coef .* g_b.coef')')\n",
    "\n",
    "    coord = []\n",
    "    for i in eachindex(g_a.exp)\n",
    "        for j in eachindex(g_b.exp)\n",
    "            append!(coord,[(g_a.exp[i]*g_a.coord+g_b.exp[j]*g_b.coord)/(g_a.exp[i]+g_b.exp[j])])\n",
    "        end\n",
    "    end\n",
    "            \n",
    "    alpha = vec(((g_a.exp .* g_b.exp')./(g_a.exp .+ g_b.exp'))')\n",
    "    \n",
    "    return shell_pair(g_a, g_b, exp, coef, coord, alpha)\n",
    "\n",
    "end"
   ]
  },
  {
   "cell_type": "code",
   "execution_count": 8,
   "id": "d3e61293",
   "metadata": {},
   "outputs": [
    {
     "data": {
      "text/plain": [
       "shell_pair(shell(0, [0.5, 0.7], [1.0, 1.0], [1.0, 1.5, 2.0], [1.0], Array{Int64}[[0]]), shell(0, [0.3, 0.4], [0.13963711261732617, 0.18659052894127096], [2.0, 2.0, 2.0], [1.0], Array{Int64}[[0, 0, 0]]), [0.8, 0.9, 1.0, 1.1], [0.13963711261732617, 0.18659052894127096, 0.13963711261732617, 0.18659052894127096], Array{Float64}[[1.375, 1.6875, 2.0], [1.4444444444444444, 1.7222222222222223, 2.0], [1.2999999999999998, 1.65, 2.0], [1.3636363636363635, 1.6818181818181817, 2.0]], [0.18749999999999997, 0.22222222222222224, 0.21, 0.2545454545454545])"
      ]
     },
     "execution_count": 8,
     "metadata": {},
     "output_type": "execute_result"
    }
   ],
   "source": [
    "pairAB = build_shell_pair(g_a,g_b)"
   ]
  },
  {
   "cell_type": "markdown",
   "id": "f9fd2247",
   "metadata": {},
   "source": [
    "## Creador de Shell"
   ]
  },
  {
   "cell_type": "code",
   "execution_count": 9,
   "id": "e132bbc9",
   "metadata": {},
   "outputs": [
    {
     "data": {
      "text/plain": [
       "get_set_of_shells (generic function with 1 method)"
      ]
     },
     "execution_count": 9,
     "metadata": {},
     "output_type": "execute_result"
    }
   ],
   "source": [
    "function get_set_of_shells(element,coord,basis_name)\n",
    "\n",
    "    element = uppercase(element)\n",
    "    shells = []\n",
    "    \n",
    "    # Basis file\n",
    "    f = open(\"basis/\"*basis_name*\".bas\",\"r\")\n",
    "    lines = readlines(f)\n",
    "    close(f)\n",
    "    \n",
    "    # Find_atom\n",
    "    atom_line = 0\n",
    "    for (i,line) in enumerate(lines)\n",
    "        splitted_line = split(line)\n",
    "        if(size(splitted_line)[1]>0)\n",
    "            if(occursin(\"O-\",splitted_line[1]))\n",
    "                if(splitted_line[2] == element)\n",
    "                    atom_line = i\n",
    "                    break\n",
    "                end\n",
    "            end\n",
    "        end\n",
    "    end\n",
    "\n",
    "    # Pass the scheme contraction info line\n",
    "    num_of_shells = parse(Int,lines[atom_line + 2])\n",
    "    \n",
    "    # Read shells\n",
    "    new_shell = true\n",
    "    idx_shell = 0\n",
    "    idx_prim = 0\n",
    "    exp = []\n",
    "    coef = []\n",
    "    idx,l,num_of_primitives = 0,0,0\n",
    "    for line in lines[atom_line + 3:size(lines)[1]]\n",
    "        splitted_line = split(line)\n",
    "        #If new shell, read angular momentum and number of primitives\n",
    "        if new_shell\n",
    "            idx_shell += 1\n",
    "            idx_prim = 0        \n",
    "            idx,l,num_of_primitives = parse(Int,splitted_line[1]),parse(Int,splitted_line[2]),parse(Int,splitted_line[3])\n",
    "            exp = []\n",
    "            coef = []\n",
    "            new_shell = false\n",
    "            continue\n",
    "        end\n",
    "        #If not a new shell, read exponents and coefficients\n",
    "        if !new_shell\n",
    "            idx_prim += 1\n",
    "            append!(exp,parse(Float64,splitted_line[1]))           \n",
    "            append!(coef,parse(Float64,splitted_line[2]))\n",
    "            if(idx_prim == num_of_primitives)\n",
    "                push!(shells,normalized_shell(l,exp,coef,coord))\n",
    "                #If all shells readed, break, else, read new shell\n",
    "                if(idx_shell == num_of_shells)\n",
    "                    break\n",
    "                else\n",
    "                    new_shell = true\n",
    "                end\n",
    "            end\n",
    "            continue\n",
    "        end\n",
    "    end\n",
    "            \n",
    "    return shells\n",
    "                        \n",
    "end"
   ]
  },
  {
   "cell_type": "code",
   "execution_count": 10,
   "id": "7ff7e003",
   "metadata": {},
   "outputs": [
    {
     "data": {
      "text/plain": [
       "9-element Vector{Any}:\n",
       " shell(0, [6665.0, 1000.0, 228.0, 64.71, 21.06, 7.495, 2.797, 0.5215, 0.1596], [0.3638031159963351, 0.6753920199851438, 1.1323009845638856, 1.654004043786724, 1.9249784580083262, 1.4481493327119654, 0.43942743105618515, 0.006649803316796763, -0.0005742641091064987], [0.0, 0.0, 0.0], [1.0], Array{Int64}[[0, 0, 0]])\n",
       " shell(0, [6665.0, 1000.0, 228.0, 64.71, 21.06, 7.495, 2.797, 0.5215, 0.1596], [-0.07675616263267492, -0.14625680841141203, -0.2394070358248575, -0.3790690855337743, -0.44810373279382504, -0.48420052512242984, -0.1961680961614069, 0.23816176040401543, 0.10446821641194678], [0.0, 0.0, 0.0], [1.0], Array{Int64}[[0, 0, 0]])\n",
       " shell(0, [0.1596], [0.1799636353308006], [0.0, 0.0, 0.0], [1.0], Array{Int64}[[0, 0, 0]])\n",
       " shell(0, [0.0469], [0.07182733022052408], [0.0, 0.0, 0.0], [1.0], Array{Int64}[[0, 0, 0]])\n",
       " shell(1, [9.439, 2.002, 0.5456, 0.1517], [0.8987219849137384, 0.7110710327814355, 0.3399170263839058, 0.06327014302166259], [0.0, 0.0, 0.0], [1.0, 1.0, 1.0], Array{Int64}[[1, 0, 0], [0, 1, 0], [0, 0, 1]])\n",
       " shell(1, [0.1517], [0.13494974363929313], [0.0, 0.0, 0.0], [1.0, 1.0, 1.0], Array{Int64}[[1, 0, 0], [0, 1, 0], [0, 0, 1]])\n",
       " shell(1, [0.04041], [0.025825643456087233], [0.0, 0.0, 0.0], [1.0, 1.0, 1.0], Array{Int64}[[1, 0, 0], [0, 1, 0], [0, 0, 1]])\n",
       " shell(2, [0.55], [1.0013935509214063], [0.0, 0.0, 0.0], [0.5773502691896257, 1.0, 1.0, 0.5773502691896257, 1.0, 0.5773502691896257], Array{Int64}[[2, 0, 0], [1, 1, 0], [1, 0, 1], [0, 2, 0], [0, 1, 1], [0, 0, 2]])\n",
       " shell(2, [0.151], [0.10427489022552185], [0.0, 0.0, 0.0], [0.5773502691896257, 1.0, 1.0, 0.5773502691896257, 1.0, 0.5773502691896257], Array{Int64}[[2, 0, 0], [1, 1, 0], [1, 0, 1], [0, 2, 0], [0, 1, 1], [0, 0, 2]])"
      ]
     },
     "execution_count": 10,
     "metadata": {},
     "output_type": "execute_result"
    }
   ],
   "source": [
    "shells = get_set_of_shells(\"C\",[0.0,0.0,0.0],\"aug-cc-pVDZ\")"
   ]
  },
  {
   "cell_type": "code",
   "execution_count": 11,
   "id": "d0c023e7",
   "metadata": {},
   "outputs": [
    {
     "data": {
      "text/plain": [
       "get_all_shells_from_xyz (generic function with 1 method)"
      ]
     },
     "execution_count": 11,
     "metadata": {},
     "output_type": "execute_result"
    }
   ],
   "source": [
    "function get_all_shells_from_xyz(molecule,basis_name)\n",
    "    molecule = split(molecule,\"\\n\")    \n",
    "    natoms = size(molecule)[1]\n",
    "    shells = []\n",
    "    for iatom in 1:natoms\n",
    "        atom = split(molecule[iatom])\n",
    "        if size(atom)[1] >= 1\n",
    "            shell = get_set_of_shells(atom[1],[parse(Float64,atom[2]),parse(Float64,atom[3]),parse(Float64,atom[4])],basis_name)\n",
    "            push!(shells,shell)\n",
    "        end\n",
    "    end\n",
    "    return shells        \n",
    "end"
   ]
  },
  {
   "cell_type": "code",
   "execution_count": 12,
   "id": "9117598a",
   "metadata": {},
   "outputs": [
    {
     "data": {
      "text/plain": [
       "\"O   0.000000  0.000000  0.000000\\nH   0.277400  0.892900  0.254400\\nH   0.606800 -0.238300 -0.716900\\n\""
      ]
     },
     "execution_count": 12,
     "metadata": {},
     "output_type": "execute_result"
    }
   ],
   "source": [
    "molecule = \"\"\"\n",
    "O   0.000000  0.000000  0.000000\n",
    "H   0.277400  0.892900  0.254400\n",
    "H   0.606800 -0.238300 -0.716900\n",
    "\"\"\""
   ]
  },
  {
   "cell_type": "code",
   "execution_count": 13,
   "id": "17652ae5",
   "metadata": {},
   "outputs": [
    {
     "data": {
      "text/plain": [
       "3-element Vector{Any}:\n",
       " Any[shell(0, [11720.0, 1759.0, 400.8, 113.7, 37.03, 13.27, 5.025, 1.013, 0.3023], [0.569986149793314, 1.058880501673631, 1.7771678966453877, 2.600709693959018, 3.028357204192797, 2.223503905508639, 0.6481188547796517, 0.011124247231272932, -0.0007511028383196536], [0.0, 0.0, 0.0], [1.0], Array{Int64}[[0, 0, 0]]), shell(0, [11720.0, 1759.0, 400.8, 113.7, 37.03, 13.27, 5.025, 1.013, 0.3023], [-0.12844755012231768, -0.24449099282587303, -0.40009729327831506, -0.6381663487030188, -0.7587848290723769, -0.8196486224662376, -0.27975700946278415, 0.4011060836621272, 0.1664219730305194], [0.0, 0.0, 0.0], [1.0], Array{Int64}[[0, 0, 0]]), shell(0, [0.3023], [0.2905619240088511], [0.0, 0.0, 0.0], [1.0], Array{Int64}[[0, 0, 0]]), shell(0, [0.07896], [0.10616110906976056], [0.0, 0.0, 0.0], [1.0], Array{Int64}[[0, 0, 0]]), shell(1, [17.7, 3.854, 1.046, 0.2753], [2.226162227432104, 1.7619764776359819, 0.7670792917006999, 0.13090512359254836], [0.0, 0.0, 0.0], [1.0, 1.0, 1.0], Array{Int64}[[1, 0, 0], [0, 1, 0], [0, 0, 1]]), shell(1, [0.2753], [0.2842482843865529], [0.0, 0.0, 0.0], [1.0, 1.0, 1.0], Array{Int64}[[1, 0, 0], [0, 1, 0], [0, 0, 1]]), shell(1, [0.06856], [0.05000674641915474], [0.0, 0.0, 0.0], [1.0, 1.0, 1.0], Array{Int64}[[1, 0, 0], [0, 1, 0], [0, 0, 1]]), shell(2, [1.185], [3.8368709884748156], [0.0, 0.0, 0.0], [0.5773502691896257, 1.0, 1.0, 0.5773502691896257, 1.0, 0.5773502691896257], Array{Int64}[[2, 0, 0], [1, 1, 0], [1, 0, 1], [0, 2, 0], [0, 1, 1], [0, 0, 2]]), shell(2, [0.332], [0.41396319483973254], [0.0, 0.0, 0.0], [0.5773502691896257, 1.0, 1.0, 0.5773502691896257, 1.0, 0.5773502691896257], Array{Int64}[[2, 0, 0], [1, 1, 0], [1, 0, 1], [0, 2, 0], [0, 1, 1], [0, 0, 2]])]\n",
       " Any[shell(0, [13.01, 1.962, 0.4446, 0.122], [0.09610661098332268, 0.16301997479104427, 0.18554502268336198, 0.07374379198350509], [0.2774, 0.8929, 0.2544], [1.0], Array{Int64}[[0, 0, 0]]), shell(0, [0.122], [0.14712279442857357], [0.2774, 0.8929, 0.2544], [1.0], Array{Int64}[[0, 0, 0]]), shell(0, [0.02974], [0.05104060521120047], [0.2774, 0.8929, 0.2544], [1.0], Array{Int64}[[0, 0, 0]]), shell(1, [0.727], [0.9568813750595656], [0.2774, 0.8929, 0.2544], [1.0, 1.0, 1.0], Array{Int64}[[1, 0, 0], [0, 1, 0], [0, 0, 1]]), shell(1, [0.141], [0.12315838313703437], [0.2774, 0.8929, 0.2544], [1.0, 1.0, 1.0], Array{Int64}[[1, 0, 0], [0, 1, 0], [0, 0, 1]])]\n",
       " Any[shell(0, [13.01, 1.962, 0.4446, 0.122], [0.09610661098332268, 0.16301997479104427, 0.18554502268336198, 0.07374379198350509], [0.6068, -0.2383, -0.7169], [1.0], Array{Int64}[[0, 0, 0]]), shell(0, [0.122], [0.14712279442857357], [0.6068, -0.2383, -0.7169], [1.0], Array{Int64}[[0, 0, 0]]), shell(0, [0.02974], [0.05104060521120047], [0.6068, -0.2383, -0.7169], [1.0], Array{Int64}[[0, 0, 0]]), shell(1, [0.727], [0.9568813750595656], [0.6068, -0.2383, -0.7169], [1.0, 1.0, 1.0], Array{Int64}[[1, 0, 0], [0, 1, 0], [0, 0, 1]]), shell(1, [0.141], [0.12315838313703437], [0.6068, -0.2383, -0.7169], [1.0, 1.0, 1.0], Array{Int64}[[1, 0, 0], [0, 1, 0], [0, 0, 1]])]"
      ]
     },
     "execution_count": 13,
     "metadata": {},
     "output_type": "execute_result"
    }
   ],
   "source": [
    "shells = get_all_shells_from_xyz(molecule,\"aug-cc-pVDZ\")"
   ]
  },
  {
   "cell_type": "markdown",
   "id": "430f1a57",
   "metadata": {},
   "source": [
    "# MD"
   ]
  },
  {
   "cell_type": "code",
   "execution_count": 14,
   "id": "4f58d125",
   "metadata": {},
   "outputs": [
    {
     "data": {
      "text/plain": [
       "shell(0, [0.07896], [0.10616110906976056], [0.0, 0.0, 0.0], [1.0], Array{Int64}[[0, 0, 0]])"
      ]
     },
     "execution_count": 14,
     "metadata": {},
     "output_type": "execute_result"
    }
   ],
   "source": [
    "g_a = normalized_shell(0,[13.01, 1.962, 0.4446, 0.122],[0.01968500,0.1379770,0.4781480,0.5012400],[0.0,0.0,0.0])\n",
    "g_b = normalized_shell(0,[0.07896],[1.0],[0,0,0])\n",
    "g_c = normalized_shell(0,[0.141],[1.0],[0.6068,-0.2383,-0.7169])\n",
    "g_d = normalized_shell(0,[0.07896],[1.0],[0,0,0])"
   ]
  },
  {
   "cell_type": "code",
   "execution_count": 15,
   "id": "aede69bc",
   "metadata": {},
   "outputs": [
    {
     "data": {
      "text/plain": [
       "compute_E (generic function with 1 method)"
      ]
     },
     "execution_count": 15,
     "metadata": {},
     "output_type": "execute_result"
    }
   ],
   "source": [
    "function compute_E(t,la,lb,pair,i,xyz)\n",
    "    \n",
    "    if(t<0)\n",
    "        return 0\n",
    "    elseif(t>la+lb)\n",
    "        return 0\n",
    "    elseif(la>0)\n",
    "        E_im1j_tm1 = compute_E(t-1,la-1,lb,pair,i,xyz)\n",
    "        E_im1j_t = compute_E(t,la-1,lb,pair,i,xyz)\n",
    "        E_im1j_tp1 = compute_E(t+1,la-1,lb,pair,i,xyz)\n",
    "        return 1/(2*pair.exp[i])*E_im1j_tm1 + (pair.coord[i][xyz]-pair.g_a.coord[xyz])*E_im1j_t + (t+1)*E_im1j_tp1\n",
    "    elseif(lb>0)\n",
    "        E_ijm1_tm1 = compute_E(t-1,la,lb-1,pair,i,xyz)\n",
    "        E_ijm1_t = compute_E(t,la,lb-1,pair,i,xyz)\n",
    "        E_ijm1_tp1 = compute_E(t+1,la,lb-1,pair,i,xyz)    \n",
    "        return 1/(2*pair.exp[i])*E_ijm1_tm1 + (pair.coord[i][xyz]-pair.g_b.coord[xyz])*E_ijm1_t + (t+1)*E_ijm1_tp1\n",
    "    elseif(t==0 && la==0 && lb==0)\n",
    "        return exp(-pair.alpha[i]*(pair.g_b.coord[xyz]-pair.g_a.coord[xyz])^2)\n",
    "    end\n",
    "end"
   ]
  },
  {
   "cell_type": "code",
   "execution_count": 16,
   "id": "e659b4c4",
   "metadata": {},
   "outputs": [
    {
     "data": {
      "text/plain": [
       "compute_R (generic function with 1 method)"
      ]
     },
     "execution_count": 16,
     "metadata": {},
     "output_type": "execute_result"
    }
   ],
   "source": [
    "function compute_R(v_x,v_y,v_z,n,pairAB,pairCD,i,j,alpha,Rpq)\n",
    "\n",
    "    if(v_x<0 || v_y<0 || v_z<0)\n",
    "        return 0\n",
    "    elseif(v_x!=0)\n",
    "        R_np1_vm2 = compute_R(v_x-2,v_y,v_z,n+1,pairAB,pairCD,i,j,alpha,Rpq)\n",
    "        R_np1_vm1 = compute_R(v_x-1,v_y,v_z,n+1,pairAB,pairCD,i,j,alpha,Rpq)\n",
    "        return (v_x-1)*R_np1_vm2 + Rpq[1]*R_np1_vm1\n",
    "    elseif(v_y!=0)\n",
    "        R_np1_vm2 = compute_R(v_x,v_y-2,v_z,n+1,pairAB,pairCD,i,j,alpha,Rpq)\n",
    "        R_np1_vm1 = compute_R(v_x,v_y-1,v_z,n+1,pairAB,pairCD,i,j,alpha,Rpq)\n",
    "        return (v_y-1)*R_np1_vm2 + Rpq[2]*R_np1_vm1\n",
    "    elseif(v_z!=0)\n",
    "        R_np1_vm2 = compute_R(v_x,v_y,v_z-2,n+1,pairAB,pairCD,i,j,alpha,Rpq)\n",
    "        R_np1_vm1 = compute_R(v_x,v_y,v_z-1,n+1,pairAB,pairCD,i,j,alpha,Rpq)\n",
    "        return (v_z-1)*R_np1_vm2 + Rpq[3]*R_np1_vm1\n",
    "    else\n",
    "        return (-2*alpha)^n*2*pi^(5/2)/(pairAB.exp[i]*pairCD.exp[j]*sqrt(pairAB.exp[i]+pairCD.exp[j]))*F_n(n,alpha*norm(Rpq)^2)\n",
    "    end\n",
    "end"
   ]
  },
  {
   "cell_type": "code",
   "execution_count": 17,
   "id": "af55e3ad",
   "metadata": {},
   "outputs": [
    {
     "data": {
      "text/plain": [
       "MD (generic function with 1 method)"
      ]
     },
     "execution_count": 17,
     "metadata": {},
     "output_type": "execute_result"
    }
   ],
   "source": [
    "function MD(g_a,g_b,g_c,g_d)\n",
    "\n",
    "    pairAB = build_shell_pair(g_a,g_b)\n",
    "    pairCD = build_shell_pair(g_c,g_d)\n",
    "\n",
    "    result = zeros(size(g_a.orientaciones)[1],size(g_b.orientaciones)[1],size(g_c.orientaciones)[1],size(g_d.orientaciones)[1])\n",
    "    for (a,(lax,lay,laz)) in enumerate(g_a.orientaciones)\n",
    "        for (b,(lbx,lby,lbz)) in enumerate(g_b.orientaciones)\n",
    "            for (c,(lcx,lcy,lcz)) in enumerate(g_c.orientaciones)\n",
    "                for (d,(ldx,ldy,ldz)) in enumerate(g_d.orientaciones)\n",
    "                    integral = 0.0\n",
    "                    for i in eachindex(pairAB.exp)\n",
    "                        aux7 = 0\n",
    "                        for t_z in 0:laz+lbz\n",
    "                            Ez_ij_t = compute_E(t_z,laz,lbz,pairAB,i,3)\n",
    "                            aux6 = 0    \n",
    "                            for t_y in 0:lay+lby\n",
    "                                Ey_ij_t = compute_E(t_y,lay,lby,pairAB,i,2)\n",
    "                                aux5 = 0        \n",
    "                                for t_x in 0:lax+lbx\n",
    "                                    Ex_ij_t = compute_E(t_x,lax,lbx,pairAB,i,1)\n",
    "                                    aux4 = 0\n",
    "                                    for j in eachindex(pairCD.exp)    \n",
    "                                        alpha = pairAB.exp[i]*pairCD.exp[j]/(pairAB.exp[i]+pairCD.exp[j])\n",
    "                                        Rpq = pairAB.coord[i]-pairCD.coord[j]\n",
    "                                        aux3 = 0\n",
    "                                        for u_z in 0:lcz+ldz\n",
    "                                            Ez_kl_u = compute_E(u_z,lcz,ldz,pairCD,j,3)\n",
    "                                            aux2 = 0\n",
    "                                            for u_y in 0:lcy+ldy\n",
    "                                                Ey_kl_u = compute_E(u_y,lcy,ldy,pairCD,j,2)\n",
    "                                                aux1 = 0\n",
    "                                                for u_x in 0:lcx+ldx\n",
    "                                                    Ex_kl_u = compute_E(u_x,lcx,ldx,pairCD,j,1)\n",
    "                                                    aux1 += (-1)^(u_x+u_y+u_z)*Ex_kl_u*compute_R(t_x+u_x,t_y+u_y,t_z+u_z,0,pairAB,pairCD,i,j,alpha,Rpq)\n",
    "                                                end\n",
    "                                                aux2 += Ey_kl_u*aux1\n",
    "                                            end\n",
    "                                            aux3 += Ez_kl_u*aux2\n",
    "                                        end\n",
    "                                        aux4 += aux3*pairCD.coef[j]\n",
    "                                    end\n",
    "                                    aux5 += Ex_ij_t*aux4\n",
    "                                end\n",
    "                                aux6 += Ey_ij_t*aux5\n",
    "                            end\n",
    "                            aux7 += Ez_ij_t*aux6\n",
    "                        end\n",
    "                        integral += aux7*pairAB.coef[i]\n",
    "                    end\n",
    "                    result[a,b,c,d] = g_a.N[a]*g_b.N[b]*g_c.N[c]*g_d.N[d]*integral\n",
    "                end\n",
    "            end\n",
    "        end\n",
    "    end\n",
    "\n",
    "    return result\n",
    "    \n",
    "end"
   ]
  },
  {
   "cell_type": "code",
   "execution_count": 18,
   "id": "75afbf3f",
   "metadata": {},
   "outputs": [
    {
     "name": "stdout",
     "output_type": "stream",
     "text": [
      "  4.329 μs (512 allocations: 17.84 KiB)\n"
     ]
    },
    {
     "data": {
      "text/plain": [
       "1×1×1×1 Array{Float64, 4}:\n",
       "[:, :, 1, 1] =\n",
       " 0.28447427867464337"
      ]
     },
     "execution_count": 18,
     "metadata": {},
     "output_type": "execute_result"
    }
   ],
   "source": [
    "using BenchmarkTools\n",
    "\n",
    "@btime MD(g_a,g_b,g_c,g_d)"
   ]
  },
  {
   "cell_type": "code",
   "execution_count": null,
   "id": "7d2da7d0",
   "metadata": {},
   "outputs": [],
   "source": []
  },
  {
   "cell_type": "code",
   "execution_count": null,
   "id": "b58b54af",
   "metadata": {},
   "outputs": [],
   "source": []
  },
  {
   "cell_type": "code",
   "execution_count": 19,
   "id": "54a3aec1",
   "metadata": {},
   "outputs": [
    {
     "data": {
      "text/plain": [
       "build_R (generic function with 1 method)"
      ]
     },
     "execution_count": 19,
     "metadata": {},
     "output_type": "execute_result"
    }
   ],
   "source": [
    "function build_R(lt,alpha,Rpq,F,pairAB,pairCD)\n",
    "    R = [[[[[[0.0 for lz in 0:lt-n-lx-ly] for ly in 0:lt-n-lx] for lx in 0:lt-n] for n in 0:lt] for jj in eachindex(pairCD.exp)] for ii in eachindex(pairAB.exp)]\n",
    "    for ii in eachindex(pairAB.exp)\n",
    "        for jj in eachindex(pairCD.exp)\n",
    "            for nini in 0:lt\n",
    "                R[ii][jj][nini+1][1][1][1] = (-2*alpha[ii][jj])^nini*2*pi^(5/2)/(pairAB.exp[ii]*pairCD.exp[jj]*sqrt(pairAB.exp[ii]+pairCD.exp[jj]))*F[ii][jj][nini+1]\n",
    "                l = 0\n",
    "                for n in nini-1:-1:0\n",
    "                    l += 1\n",
    "                    for lx in 0:l\n",
    "                        for ly in 0:l-lx\n",
    "                            lz = l-lx-ly\n",
    "                            if(lz>=2)\n",
    "                                R[ii][jj][n+1][lx+1][ly+1][lz+1] += (lz-1)*R[ii][jj][n+2][lx+1][ly+1][lz-1]\n",
    "                            end\n",
    "                            if(lz>=1)\n",
    "                                R[ii][jj][n+1][lx+1][ly+1][lz+1] += Rpq[ii][jj][3]*R[ii][jj][n+2][lx+1][ly+1][lz]\n",
    "                            end\n",
    "                        end\n",
    "                        ly = l-lx\n",
    "                        if(ly>=2)\n",
    "                            R[ii][jj][n+1][lx+1][l-lx+1][1] += (ly-1)*R[ii][jj][n+2][lx+1][l-lx-1][1]\n",
    "                        end\n",
    "                        if(ly>=1)\n",
    "                            R[ii][jj][n+1][lx+1][l-lx+1][1] += Rpq[ii][jj][2]*R[ii][jj][n+2][lx+1][l-lx][1]\n",
    "                        end\n",
    "                    end\n",
    "                    lx = l\n",
    "                    if(lx>=2)\n",
    "                        R[ii][jj][n+1][l+1][1][1] += (lx-1)*R[ii][jj][n+2][l-1][1][1]\n",
    "                    end\n",
    "                    if(lx>=1)\n",
    "                        R[ii][jj][n+1][l+1][1][1] += Rpq[ii][jj][1]*R[ii][jj][n+2][l][1][1]                \n",
    "                    end\n",
    "                end\n",
    "            end\n",
    "        end\n",
    "    end\n",
    "             \n",
    "    return R\n",
    "\n",
    "end"
   ]
  },
  {
   "cell_type": "code",
   "execution_count": 20,
   "id": "c12c4455",
   "metadata": {},
   "outputs": [
    {
     "data": {
      "text/plain": [
       "build_E (generic function with 1 method)"
      ]
     },
     "execution_count": 20,
     "metadata": {},
     "output_type": "execute_result"
    }
   ],
   "source": [
    "function build_E(l1,l2,pair)\n",
    "    E = [[[[[0.0 for t in 0:la+lb] for lb in 0:l2] for la in 0:l1] for xyz in 1:3] for ii in eachindex(pair.exp)]\n",
    "\n",
    "    for ii in eachindex(pair.exp)\n",
    "        for xyz in 1:3\n",
    "            E[ii][xyz][1][1][1] = exp(-pair.alpha[ii]*(pair.g_b.coord[xyz]-pair.g_a.coord[xyz])^2)\n",
    "            for la in 0:l1\n",
    "                for lb in 0:l2\n",
    "                    for t in 0:la+lb\n",
    "                        if(lb>0)\n",
    "                            if(t>0)               \n",
    "                                E[ii][xyz][la+1][lb+1][t+1] += 1/(2*pair.exp[ii])*E[ii][xyz][la+1][lb][t]\n",
    "                            end\n",
    "                            if(t<=la+lb-1)\n",
    "                                E[ii][xyz][la+1][lb+1][t+1] += (pair.coord[ii][xyz]-pair.g_b.coord[xyz])*E[ii][xyz][la+1][lb][t+1]\n",
    "                            end\n",
    "                            if(t+1<=la+lb-1)\n",
    "                                E[ii][xyz][la+1][lb+1][t+1] += (t+1)*E[ii][xyz][la+1][lb][t+2]\n",
    "                            end\n",
    "                        elseif(la>0)\n",
    "                            if(t>0)               \n",
    "                                E[ii][xyz][la+1][lb+1][t+1] += 1/(2*pair.exp[ii])*E[ii][xyz][la][lb+1][t]\n",
    "                            end\n",
    "                            if(t<=la-1+lb)\n",
    "                                E[ii][xyz][la+1][lb+1][t+1] += (pair.coord[ii][xyz]-pair.g_a.coord[xyz])*E[ii][xyz][la][lb+1][t+1]\n",
    "                            end\n",
    "                            if(t+1<=la-1+lb)\n",
    "                                E[ii][xyz][la+1][lb+1][t+1] += (t+1)*E[ii][xyz][la][lb+1][t+2]\n",
    "                            end\n",
    "                        end\n",
    "                    end\n",
    "                end\n",
    "            end\n",
    "        end\n",
    "    end\n",
    "                                \n",
    "    return E\n",
    "    \n",
    "end"
   ]
  },
  {
   "cell_type": "code",
   "execution_count": 21,
   "id": "b4862dd5",
   "metadata": {},
   "outputs": [
    {
     "name": "stdout",
     "output_type": "stream",
     "text": [
      "0.28447427867464337\n"
     ]
    }
   ],
   "source": [
    "pairAB = build_shell_pair(g_a,g_b)\n",
    "pairCD = build_shell_pair(g_c,g_d)\n",
    "\n",
    "lt = pairAB.g_a.l + pairAB.g_b.l + pairCD.g_a.l + pairCD.g_b.l\n",
    "\n",
    "# Build boys\n",
    "alpha = [[pairAB.exp[ii]*pairCD.exp[jj]/(pairAB.exp[ii]+pairCD.exp[jj]) for jj in eachindex(pairCD.exp)] for ii in eachindex(pairAB.exp)]\n",
    "Rpq = [[pairAB.coord[ii]-pairCD.coord[jj] for jj in eachindex(pairCD.exp)] for ii in eachindex(pairAB.exp)]\n",
    "F = [[[F_n(n,alpha[ii][jj]*norm(Rpq[ii][jj])^2) for n in 0:lt] for jj in eachindex(pairCD.exp)] for ii in eachindex(pairAB.exp)]\n",
    "\n",
    "# Build R\n",
    "R = build_R(lt,alpha,Rpq,F,pairAB,pairCD)\n",
    "\n",
    "# Build E\n",
    "Eab = build_E(pairAB.g_a.l,pairAB.g_b.l,pairAB)\n",
    "Ecd = build_E(pairCD.g_a.l,pairCD.g_b.l,pairCD)\n",
    "\n",
    "result = zeros((size(g_a.orientaciones)[1],size(g_b.orientaciones)[1],size(g_c.orientaciones)[1],size(g_d.orientaciones)[1]))\n",
    "for (a,(lax,lay,laz)) in enumerate(g_a.orientaciones)\n",
    "    for (b,(lbx,lby,lbz)) in enumerate(g_b.orientaciones)\n",
    "        for (c,(lcx,lcy,lcz)) in enumerate(g_c.orientaciones)\n",
    "            for (d,(ldx,ldy,ldz)) in enumerate(g_d.orientaciones)\n",
    "\n",
    "                integral = 0.0\n",
    "                for ii in eachindex(pairAB.exp)\n",
    "                    aux7 = 0\n",
    "                    for t_z in 0:laz+lbz\n",
    "                        aux6 = 0    \n",
    "                        for t_y in 0:lay+lby\n",
    "                            aux5 = 0        \n",
    "                            for t_x in 0:lax+lbx\n",
    "                                aux4 = 0\n",
    "                                for jj in eachindex(pairCD.exp)\n",
    "                                    aux3 = 0\n",
    "                                    for u_z in 0:lcz+ldz\n",
    "                                        aux2 = 0\n",
    "                                        for u_y in 0:lcy+ldy\n",
    "                                            aux1 = 0\n",
    "                                            for u_x in 0:lcx+ldx\n",
    "                                                aux1 += (-1)^(u_x+u_y+u_z)*Ecd[jj][1][lcx+1][ldx+1][u_x+1]*R[ii][jj][1][t_x+u_x+1][t_y+u_y+1][t_z+u_z+1]\n",
    "                                            end\n",
    "                                            aux2 += Ecd[jj][2][lcy+1][ldy+1][u_y+1]*aux1\n",
    "                                        end\n",
    "                                        aux3 += Ecd[jj][3][lcz+1][ldz+1][u_z+1]*aux2\n",
    "                                    end\n",
    "                                    aux4 += aux3*pairCD.coef[jj]\n",
    "                                end\n",
    "                                aux5 += Eab[ii][1][lax+1][lbx+1][t_x+1]*aux4\n",
    "                            end\n",
    "                            aux6 += Eab[ii][2][lay+1][lby+1][t_y+1]*aux5\n",
    "                        end\n",
    "                        aux7 += Eab[ii][3][laz+1][lbz+1][t_z+1]*aux6\n",
    "                    end\n",
    "                    integral += aux7*pairAB.coef[ii]\n",
    "                end           \n",
    "                result[a,b,c,d] = g_a.N[a]*g_b.N[b]*g_c.N[c]*g_d.N[d]*integral\n",
    "                println(integral)      \n",
    "            end\n",
    "        end\n",
    "    end\n",
    "end\n",
    "            "
   ]
  },
  {
   "cell_type": "markdown",
   "id": "f1f6a15c",
   "metadata": {},
   "source": [
    "## Overlap"
   ]
  },
  {
   "cell_type": "code",
   "execution_count": 120,
   "id": "054248dc",
   "metadata": {},
   "outputs": [
    {
     "data": {
      "text/plain": [
       "shell_pair(shell(0, [13.01], [4.882228084827355], [0.0, 0.0, 0.0], [1.0], Array{Int64}[[0, 0, 0]]), shell(0, [0.07896], [0.10616110906976056], [0.0, 0.0, 0.0], [1.0], Array{Int64}[[0, 0, 0]]), [13.08896], [0.5183027482168051], Array{Float64}[[0.0, 0.0, 0.0]], [0.07848366867955897])"
      ]
     },
     "execution_count": 120,
     "metadata": {},
     "output_type": "execute_result"
    }
   ],
   "source": [
    "g_a = normalized_shell(0,[13.01],[0.01968500],[0.0,0.0,0.0])\n",
    "g_b = normalized_shell(0,[0.07896],[1.0],[0,0,0])\n",
    "pairAB = build_shell_pair(g_a,g_b)"
   ]
  },
  {
   "cell_type": "code",
   "execution_count": 121,
   "id": "089a4167",
   "metadata": {},
   "outputs": [
    {
     "name": "stdout",
     "output_type": "stream",
     "text": [
      "0.06094675816728935\n"
     ]
    }
   ],
   "source": [
    "Eab = build_E(pairAB.g_a.l,pairAB.g_b.l,pairAB)\n",
    "\n",
    "result = zeros((size(g_a.orientaciones)[1],size(g_b.orientaciones)[1]))\n",
    "\n",
    "for (a,(lax,lay,laz)) in enumerate(g_a.orientaciones)\n",
    "    for (b,(lbx,lby,lbz)) in enumerate(g_b.orientaciones)\n",
    "        \n",
    "        integral = 0.0\n",
    "        for ii in eachindex(pairAB.exp)\n",
    "            t_z = 0\n",
    "            t_y = 0\n",
    "            t_x = 0\n",
    "            integral += Eab[ii][1][lax+1][lbx+1][t_x+1]*\n",
    "                        Eab[ii][2][lay+1][lby+1][t_y+1]*\n",
    "                        Eab[ii][3][laz+1][lbz+1][t_z+1]*\n",
    "                        (pi/pairAB.exp[ii])^1.5*pairAB.coef[ii]\n",
    "        end           \n",
    "        result[a,b] = g_a.N[a]*g_b.N[b]*integral\n",
    "        println(result[a,b])      \n",
    "    end\n",
    "end"
   ]
  },
  {
   "cell_type": "code",
   "execution_count": 24,
   "id": "bcb44bca",
   "metadata": {},
   "outputs": [
    {
     "data": {
      "text/plain": [
       "shell_pair(shell(0, [13.01, 1.962, 0.4446, 0.122], [0.09610661098332268, 0.16301997479104427, 0.18554502268336198, 0.07374379198350509], [0.0, 0.0, 0.0], [1.0], Array{Int64}[[0, 0, 0]]), shell(0, [0.07896], [0.10616110906976056], [0.0, 0.0, 0.0], [1.0], Array{Int64}[[0, 0, 0]]), [13.08896, 2.04096, 0.52356, 0.20096], [0.010202784410925567, 0.017306381324341667, 0.01969766539043959, 0.007828722743978618], Array{Float64}[[0.0, 0.0, 0.0], [0.0, 0.0, 0.0], [0.0, 0.0, 0.0], [0.0, 0.0, 0.0]], [0.07848366867955897, 0.0759052210724365, 0.06705175338070135, 0.04793550955414013])"
      ]
     },
     "execution_count": 24,
     "metadata": {},
     "output_type": "execute_result"
    }
   ],
   "source": [
    "pairAB"
   ]
  },
  {
   "cell_type": "markdown",
   "id": "1dc1fcc8",
   "metadata": {},
   "source": [
    "# Potential"
   ]
  },
  {
   "cell_type": "code",
   "execution_count": 25,
   "id": "98afc5ba",
   "metadata": {},
   "outputs": [
    {
     "data": {
      "text/plain": [
       "3-element Vector{Int64}:\n",
       " 0\n",
       " 0\n",
       " 0"
      ]
     },
     "execution_count": 25,
     "metadata": {},
     "output_type": "execute_result"
    }
   ],
   "source": [
    "coord = [0,0,0]"
   ]
  },
  {
   "cell_type": "code",
   "execution_count": 26,
   "id": "93f0f282",
   "metadata": {},
   "outputs": [
    {
     "data": {
      "text/plain": [
       "4-element Vector{Vector{Float64}}:\n",
       " [1.0]\n",
       " [1.0]\n",
       " [1.0]\n",
       " [1.0]"
      ]
     },
     "execution_count": 26,
     "metadata": {},
     "output_type": "execute_result"
    }
   ],
   "source": [
    "p = pairAB.exp\n",
    "Rpc = [pairAB.coord[ii]-coord for ii in eachindex(pairAB.exp)]\n",
    "F = [[F_n(n,p[ii]*norm(Rpc[ii])^2) for n in 0:pairAB.g_a.l + pairAB.g_b.l] for ii in eachindex(pairAB.exp)]"
   ]
  },
  {
   "cell_type": "code",
   "execution_count": 27,
   "id": "8dbe5948",
   "metadata": {},
   "outputs": [
    {
     "data": {
      "text/plain": [
       "4-element Vector{Vector{Vector{Vector{Vector{Float64}}}}}:\n",
       " [[[[0.0]]]]\n",
       " [[[[0.0]]]]\n",
       " [[[[0.0]]]]\n",
       " [[[[0.0]]]]"
      ]
     },
     "execution_count": 27,
     "metadata": {},
     "output_type": "execute_result"
    }
   ],
   "source": [
    "R = [[[[[0.0 for lz in 0:lt-n-lx-ly] for ly in 0:lt-n-lx] for lx in 0:lt-n] for n in 0:lt] for ii in eachindex(pairAB.exp)]"
   ]
  },
  {
   "cell_type": "code",
   "execution_count": 28,
   "id": "b3db7dab",
   "metadata": {},
   "outputs": [
    {
     "data": {
      "text/plain": [
       "build_R_one (generic function with 1 method)"
      ]
     },
     "execution_count": 28,
     "metadata": {},
     "output_type": "execute_result"
    }
   ],
   "source": [
    "function build_R_one(coord,pairAB)\n",
    "    p = pairAB.exp\n",
    "    Rpc = [pairAB.coord[ii]-coord for ii in eachindex(pairAB.exp)]\n",
    "    F = [[F_n(n,p[ii]*norm(Rpc[ii])^2) for n in 0:pairAB.g_a.l + pairAB.g_b.l] for ii in eachindex(pairAB.exp)]\n",
    "    lt = pairAB.g_a.l + pairAB.g_b.l\n",
    "    R = [[[[[0.0 for lz in 0:lt-n-lx-ly] for ly in 0:lt-n-lx] for lx in 0:lt-n] for n in 0:lt] for ii in eachindex(pairAB.exp)]\n",
    "    for ii in eachindex(pairAB.exp)\n",
    "#        for jj in eachindex(pairCD.exp)\n",
    "            for nini in 0:lt\n",
    "                R[ii][nini+1][1][1][1] = (-2*p[ii])^nini*2*pi/p[ii]*F[ii][nini+1]\n",
    "                l = 0\n",
    "                for n in nini-1:-1:0\n",
    "                    l += 1\n",
    "                    for lx in 0:l\n",
    "                        for ly in 0:l-lx\n",
    "                            lz = l-lx-ly\n",
    "                            if(lz>=2)\n",
    "                                R[ii][n+1][lx+1][ly+1][lz+1] += (lz-1)*R[ii][n+2][lx+1][ly+1][lz-1]\n",
    "                            end\n",
    "                            if(lz>=1)\n",
    "                                R[ii][n+1][lx+1][ly+1][lz+1] += Rpc[ii][3]*R[ii][n+2][lx+1][ly+1][lz]\n",
    "                            end\n",
    "                        end\n",
    "                        ly = l-lx\n",
    "                        if(ly>=2)\n",
    "                            R[ii][n+1][lx+1][l-lx+1][1] += (ly-1)*R[ii][n+2][lx+1][l-lx-1][1]\n",
    "                        end\n",
    "                        if(ly>=1)\n",
    "                            R[ii][n+1][lx+1][l-lx+1][1] += Rpc[ii][2]*R[ii][n+2][lx+1][l-lx][1]\n",
    "                        end\n",
    "                    end\n",
    "                    lx = l\n",
    "                    if(lx>=2)\n",
    "                        R[ii][n+1][l+1][1][1] += (lx-1)*R[ii][n+2][l-1][1][1]\n",
    "                    end\n",
    "                    if(lx>=1)\n",
    "                        R[ii][n+1][l+1][1][1] += Rpc[ii][1]*R[ii][n+2][l][1][1]                \n",
    "                    end\n",
    "                end\n",
    "            end\n",
    "        #end\n",
    "    end\n",
    "             \n",
    "    return R\n",
    "\n",
    "end"
   ]
  },
  {
   "cell_type": "code",
   "execution_count": 29,
   "id": "d190bf70",
   "metadata": {},
   "outputs": [
    {
     "name": "stdout",
     "output_type": "stream",
     "text": [
      "0.5393373370926999\n"
     ]
    }
   ],
   "source": [
    "R = build_R_one(coord,pairAB)\n",
    "Eab = build_E(pairAB.g_a.l,pairAB.g_b.l,pairAB)\n",
    "\n",
    "result = zeros((size(g_a.orientaciones)[1],size(g_b.orientaciones)[1]))\n",
    "\n",
    "for (a,(lax,lay,laz)) in enumerate(g_a.orientaciones)\n",
    "    for (b,(lbx,lby,lbz)) in enumerate(g_b.orientaciones)\n",
    "        \n",
    "        integral = 0.0\n",
    "        for ii in eachindex(pairAB.exp)\n",
    "            aux3 = 0\n",
    "            for t_z in 0:laz+lbz\n",
    "                aux2 = 0    \n",
    "                for t_y in 0:lay+lby\n",
    "                    aux1 = 0       \n",
    "                    for t_x in 0:lax+lbx\n",
    "                        aux1 += Eab[ii][1][lax+1][lbx+1][t_x+1]*R[ii][1][t_x+1][t_y+1][t_z+1]\n",
    "                    end\n",
    "                    aux2 += Eab[ii][2][lay+1][lby+1][t_y+1]*aux1\n",
    "                end\n",
    "                aux3 += Eab[ii][3][laz+1][lbz+1][t_z+1]*aux2\n",
    "            end\n",
    "                    \n",
    "            integral += aux3*pairAB.coef[ii]\n",
    "        end           \n",
    "        result[a,b] = g_a.N[a]*g_b.N[b]*integral\n",
    "        println(result[a,b])      \n",
    "    end\n",
    "end"
   ]
  },
  {
   "cell_type": "markdown",
   "id": "c0e1edd4",
   "metadata": {},
   "source": [
    "# Cinética"
   ]
  },
  {
   "cell_type": "code",
   "execution_count": 203,
   "id": "c03df6a4",
   "metadata": {},
   "outputs": [
    {
     "data": {
      "text/plain": [
       "shell_pair(shell(1, [13.01], [35.21978565808279], [0.0, 0.0, 0.0], [1.0, 1.0, 1.0], Array{Int64}[[1, 0, 0], [0, 1, 0], [0, 0, 1]]), shell(1, [0.07896], [0.059662165498468096], [0.0, 0.0, 0.0], [1.0, 1.0, 1.0], Array{Int64}[[1, 0, 0], [0, 1, 0], [0, 0, 1]]), [13.08896], [2.101288680753109], Array{Float64}[[0.0, 0.0, 0.0]], [0.07848366867955897])"
      ]
     },
     "execution_count": 203,
     "metadata": {},
     "output_type": "execute_result"
    }
   ],
   "source": [
    "g_a = normalized_shell(1,[13.01],[0.01968500],[0.0,0.0,0.0])\n",
    "g_b = normalized_shell(1,[0.07896],[1.0],[0,0,0])\n",
    "pairAB = build_shell_pair(g_a,g_b)"
   ]
  },
  {
   "cell_type": "code",
   "execution_count": 237,
   "id": "b46eb273",
   "metadata": {},
   "outputs": [
    {
     "data": {
      "text/plain": [
       "Tij (generic function with 1 method)"
      ]
     },
     "execution_count": 237,
     "metadata": {},
     "output_type": "execute_result"
    }
   ],
   "source": [
    "function Tij(la,lb,xyz,pairAB)\n",
    "    \n",
    "    Eab = build_E(pairAB.g_a.l,pairAB.g_b.l,pairAB)\n",
    "    \n",
    "    S = [[[0.0 for j in 0:lb] for i in 0:la] for ii in eachindex(pairAB.exp)]\n",
    "    T = [[[0.0 for j in 0:lb] for i in 0:la] for ii in eachindex(pairAB.exp)]\n",
    "    \n",
    "    for ii in eachindex(pairAB.exp)\n",
    "        i = 0\n",
    "        t = 0\n",
    "        for j in 0:lb\n",
    "            S[ii][i+1][j+1] = Eab[ii][xyz][i+1][j+1][t+1]*(pi/pairAB.exp[ii])^0.5            \n",
    "        end\n",
    "        for i in 1:la\n",
    "            for j in max(0,lb-la+i):lb\n",
    "                S[ii][i+1][j+1] = Eab[ii][xyz][i+1][j+1][t+1]*(pi/pairAB.exp[ii])^0.5\n",
    "            end\n",
    "        end\n",
    "    end\n",
    "\n",
    "    ii = 0\n",
    "    for jprim in 1:size(pairAB.g_b.exp)[1], iprim in 1:size(pairAB.g_a.exp)[1]\n",
    "        ii += 1\n",
    "        i=0\n",
    "        j=0\n",
    "        T[ii][i+1][j+1] = (pairAB.g_a.exp[iprim] - 2*pairAB.g_a.exp[iprim]^2 * ((pairAB.coord[ii][xyz]-pairAB.g_a.coord[xyz])^2 + 1/(2*pairAB.exp[ii]))) * S[ii][i+1][j+1]\n",
    "        for j in 1:lb\n",
    "            T[ii][i+1][j+1] = (pairAB.coord[ii][xyz]-pairAB.g_b.coord[xyz])*T[ii][i+1][j+1] + pairAB.g_a.exp[iprim]/pairAB.exp[ii]*2*pairAB.g_b.exp[jprim]*S[ii][i+1][j+1] \n",
    "            if(j>1)\n",
    "                T[ii][i+1][j+1] += (j-1)/(2*pairAB.exp[ii])*T[ii][i+1][j-1] - pairAB.g_a.exp[iprim]/pairAB.exp[ii]*(j)*S[ii][i+1][j-1]\n",
    "            end\n",
    "        end\n",
    "        for i in 1:la\n",
    "            for j in max(0,lb-la+i):lb\n",
    "                T[ii][i+1][j+1] = (pairAB.coord[ii][xyz]-pairAB.g_a.coord[xyz])*T[ii][i][j+1] + pairAB.g_b.exp[jprim]/pairAB.exp[ii]*2*pairAB.g_a.exp[iprim]*S[ii][i+1][j+1] \n",
    "                if(i>1)\n",
    "                    T[ii][i+1][j+1] += (i-1)/(2*pairAB.exp[ii])*T[ii][i-1][j+1] - pairAB.g_b.exp[jprim]/pairAB.exp[ii]*(i-1)*S[ii][i-1][j+1]\n",
    "                end\n",
    "                if(j>0)\n",
    "                    T[ii][i+1][j+1] += (j)/(2*pairAB.exp[ii])*T[ii][i][j]# - pairAB.g_b.exp[jprim]/pairAB.exp[ii]*(i-1)*S[ii][i-1][j+1]\n",
    "                end\n",
    "            end\n",
    "        end\n",
    "    end       \n",
    "        \n",
    "    return [T[ii][la+1][lb+1] for ii in eachindex(pairAB.exp)]\n",
    "        \n",
    "end"
   ]
  },
  {
   "cell_type": "code",
   "execution_count": 238,
   "id": "536a0203",
   "metadata": {},
   "outputs": [
    {
     "name": "stdout",
     "output_type": "stream",
     "text": [
      "0.003703965929731752\n",
      "0.0\n",
      "0.0\n",
      "0.0\n",
      "0.003703965929731752\n",
      "0.0\n",
      "0.0\n",
      "0.0\n",
      "0.003703965929731752\n"
     ]
    }
   ],
   "source": [
    "Eab = build_E(pairAB.g_a.l,pairAB.g_b.l,pairAB)\n",
    "\n",
    "result = zeros((size(g_a.orientaciones)[1],size(g_b.orientaciones)[1]))\n",
    "\n",
    "for (a,(lax,lay,laz)) in enumerate(g_a.orientaciones)\n",
    "    for (b,(lbx,lby,lbz)) in enumerate(g_b.orientaciones)\n",
    "        \n",
    "        Tx = Tij(lax,lbx,1,pairAB)\n",
    "        Ty = Tij(lay,lby,2,pairAB)\n",
    "        Tz = Tij(laz,lbz,3,pairAB)\n",
    "        \n",
    "        integral = 0.0\n",
    "        for ii in eachindex(pairAB.exp)\n",
    "            tx,ty,tz = 0,0,0\n",
    "            Sx = Eab[ii][1][lax+1][lbx+1][tx+1]*(pi/pairAB.exp[ii])^0.5\n",
    "            Sy = Eab[ii][2][lay+1][lby+1][ty+1]*(pi/pairAB.exp[ii])^0.5\n",
    "            Sz = Eab[ii][3][laz+1][lbz+1][tz+1]*(pi/pairAB.exp[ii])^0.5\n",
    "            integral += pairAB.coef[ii]*(Tx[ii]*Sy*Sz+Ty[ii]*Sx*Sz+Tz[ii]*Sx*Sy)\n",
    "        end           \n",
    "        result[a,b] = g_a.N[a]*g_b.N[b]*integral\n",
    "        println(result[a,b])      \n",
    "    end\n",
    "end"
   ]
  }
 ],
 "metadata": {
  "kernelspec": {
   "display_name": "Julia 1.7.0",
   "language": "julia",
   "name": "julia-1.7"
  },
  "language_info": {
   "file_extension": ".jl",
   "mimetype": "application/julia",
   "name": "julia",
   "version": "1.7.0"
  }
 },
 "nbformat": 4,
 "nbformat_minor": 5
}
