{
 "cells": [
  {
   "cell_type": "markdown",
   "id": "640d2b0f",
   "metadata": {},
   "source": [
    "# QCIntegrals"
   ]
  },
  {
   "cell_type": "code",
   "execution_count": 1,
   "id": "f1560c9e",
   "metadata": {},
   "outputs": [],
   "source": [
    "using HypergeometricFunctions\n",
    "using SpecialFunctions\n",
    "using LinearAlgebra\n",
    "using BenchmarkTools"
   ]
  },
  {
   "cell_type": "code",
   "execution_count": 2,
   "id": "eee3f551",
   "metadata": {},
   "outputs": [
    {
     "data": {
      "text/plain": [
       "doublefactorial (generic function with 1 method)"
      ]
     },
     "execution_count": 2,
     "metadata": {},
     "output_type": "execute_result"
    }
   ],
   "source": [
    "function doublefactorial(n)\n",
    "    if (n <= 1)\n",
    "        return 1\n",
    "    end\n",
    "    return n * doublefactorial(n - 2)\n",
    "end"
   ]
  },
  {
   "cell_type": "code",
   "execution_count": 3,
   "id": "fe05f5ad",
   "metadata": {},
   "outputs": [
    {
     "data": {
      "text/plain": [
       "F_n (generic function with 1 method)"
      ]
     },
     "execution_count": 3,
     "metadata": {},
     "output_type": "execute_result"
    }
   ],
   "source": [
    "function F_n(n,x)\n",
    "    if(x!=0)\n",
    "        return gamma(0.5 + n) * gamma_inc(0.5 + n, x, 0)[1] / (2*x^(0.5 + n))\n",
    "    else\n",
    "        return HypergeometricFunctions.M(n+1/2,n+3/2,-x)/(2*n+1)\n",
    "    end\n",
    "end"
   ]
  },
  {
   "cell_type": "markdown",
   "id": "97a95f6c",
   "metadata": {},
   "source": [
    "## Shell"
   ]
  },
  {
   "cell_type": "code",
   "execution_count": 4,
   "id": "a53c65c5",
   "metadata": {},
   "outputs": [
    {
     "data": {
      "text/plain": [
       "build_zero_shell (generic function with 1 method)"
      ]
     },
     "execution_count": 4,
     "metadata": {},
     "output_type": "execute_result"
    }
   ],
   "source": [
    "struct shell\n",
    "    l::Int8\n",
    "    exp::Vector{Float64}\n",
    "    coef::Vector{Float64}\n",
    "    coord::Vector{Float64}\n",
    "    N::Vector{Float64}\n",
    "    orientaciones::Vector{Vector{Int}}\n",
    "end\n",
    "\n",
    "function build_shell(l,exp,coef,coord;normalized=true)\n",
    "\n",
    "    #normalizacion\n",
    "    for i in eachindex(exp)\n",
    "        coef[i] = coef[i]*(2*exp[i]/pi)^(3/4)*(4*exp[i])^(l/2)\n",
    "    end\n",
    "    \n",
    "    norm = 0\n",
    "    for j in eachindex(exp)\n",
    "        for k in eachindex(exp)\n",
    "            norm += coef[j]*coef[k]*(pi/(exp[j]+exp[k]))^(3/2)/(2*(exp[j]+exp[k]))^(l)\n",
    "        end\n",
    "    end\n",
    "\n",
    "    for i in eachindex(exp)\n",
    "        coef[i] = coef[i]/sqrt(norm)\n",
    "    end\n",
    "        \n",
    "    orientaciones = []\n",
    "    for lx in l:-1:0\n",
    "        for ly in l-lx:-1:0\n",
    "            lz = l-lx-ly\n",
    "            append!(orientaciones,[[lx,ly,lz]])      \n",
    "        end\n",
    "    end        \n",
    "\n",
    "    N = ones(Int((l+1)*(l+2)/2))\n",
    "    if normalized\n",
    "        for (i,(lx,ly,lz)) in enumerate(orientaciones)\n",
    "            N[i] = sqrt(1/(doublefactorial(2*lx-1)*doublefactorial(2*ly-1)*doublefactorial(2*lz-1)))\n",
    "        end\n",
    "    end\n",
    "    \n",
    "    return shell(l, exp, coef, coord, N, orientaciones)\n",
    "    \n",
    "end\n",
    "\n",
    "function build_zero_shell()\n",
    "\n",
    "    #normalizacion\n",
    "    l = 0\n",
    "    exp = [0.0]\n",
    "    coef = [1.0]\n",
    "    coord = [0.0,0.0,0.0]\n",
    "    N = [1.0]\n",
    "    orientaciones = [[0,0,0]]\n",
    "    \n",
    "    return shell(l, exp, coef, coord, N, orientaciones)\n",
    "    \n",
    "end"
   ]
  },
  {
   "cell_type": "code",
   "execution_count": 5,
   "id": "bb6c1d8e",
   "metadata": {},
   "outputs": [
    {
     "data": {
      "text/plain": [
       "shell(0, [0.07896], [0.10616110906976056], [0.0, 0.0, 0.0], [1.0], [[0, 0, 0]])"
      ]
     },
     "execution_count": 5,
     "metadata": {},
     "output_type": "execute_result"
    }
   ],
   "source": [
    "g_a = build_shell(0,[13.01, 1.962, 0.4446, 0.122],[0.01968500,0.1379770,0.4781480,0.5012400],[0.0,0.0,0.0])\n",
    "g_b = build_shell(1,[0.07896],[1.0],[0,0,0])\n",
    "g_c = build_shell(0,[0.141],[1.0],[0.6068,-0.2383,-0.7169])\n",
    "g_d = build_shell(0,[0.07896],[1.0],[0,0,0])"
   ]
  },
  {
   "cell_type": "markdown",
   "id": "4b2ea208",
   "metadata": {},
   "source": [
    "## Shell Pair"
   ]
  },
  {
   "cell_type": "code",
   "execution_count": 6,
   "id": "de2bd0f6",
   "metadata": {},
   "outputs": [
    {
     "data": {
      "text/plain": [
       "build_shell_pair (generic function with 1 method)"
      ]
     },
     "execution_count": 6,
     "metadata": {},
     "output_type": "execute_result"
    }
   ],
   "source": [
    "struct shell_pair\n",
    "    \n",
    "    g_a::shell\n",
    "    g_b::shell\n",
    "    \n",
    "    exp::Vector{Float64}\n",
    "    coef::Vector{Float64}\n",
    "    coord::Vector{Vector{Float64}}\n",
    "    alpha::Vector{Float64}\n",
    "    \n",
    "end\n",
    "    \n",
    "function build_shell_pair(g_a, g_b)\n",
    "    \n",
    "    exp = vec((g_a.exp .+ g_b.exp')')\n",
    "    coef = vec((g_a.coef .* g_b.coef')')\n",
    "\n",
    "    coord = []\n",
    "    for i in eachindex(g_a.exp)\n",
    "        for j in eachindex(g_b.exp)\n",
    "            append!(coord,[(g_a.exp[i]*g_a.coord+g_b.exp[j]*g_b.coord)/(g_a.exp[i]+g_b.exp[j])])\n",
    "        end\n",
    "    end\n",
    "            \n",
    "    alpha = vec(((g_a.exp .* g_b.exp')./(g_a.exp .+ g_b.exp'))')\n",
    "    \n",
    "    return shell_pair(g_a, g_b, exp, coef, coord, alpha)\n",
    "\n",
    "end"
   ]
  },
  {
   "cell_type": "code",
   "execution_count": 7,
   "id": "d3e61293",
   "metadata": {},
   "outputs": [
    {
     "data": {
      "text/plain": [
       "shell_pair(shell(0, [0.141], [0.163992666204993], [0.6068, -0.2383, -0.7169], [1.0], [[0, 0, 0]]), shell(0, [0.07896], [0.10616110906976056], [0.0, 0.0, 0.0], [1.0], [[0, 0, 0]]), [0.21996], [0.017409643323629098], [[0.38897435897435895, -0.15275641025641026, -0.45955128205128204]], [0.05061538461538462])"
      ]
     },
     "execution_count": 7,
     "metadata": {},
     "output_type": "execute_result"
    }
   ],
   "source": [
    "pairAB = build_shell_pair(g_a,g_b)\n",
    "pairCD = build_shell_pair(g_c,g_d)"
   ]
  },
  {
   "cell_type": "markdown",
   "id": "f9fd2247",
   "metadata": {},
   "source": [
    "## Creador de Shell"
   ]
  },
  {
   "cell_type": "code",
   "execution_count": 8,
   "id": "e132bbc9",
   "metadata": {},
   "outputs": [
    {
     "data": {
      "text/plain": [
       "build_set_of_shells (generic function with 1 method)"
      ]
     },
     "execution_count": 8,
     "metadata": {},
     "output_type": "execute_result"
    }
   ],
   "source": [
    "function build_set_of_shells(element,coord,basis_name;normalized=true,auxiliar=false)\n",
    "\n",
    "    key_to_l = Dict(\"S\" => 0, \"P\" => 1, \"D\" => 2, \"F\" => 3, \"G\" => 4, \"H\" => 5, \"I\" => 6)\n",
    "\n",
    "    element = uppercase(element)\n",
    "    shells = []\n",
    "    \n",
    "    # Basis file\n",
    "    #filename = joinpath(@__DIR__, \"../basis/\"*basis_name*\".gbs\")\n",
    "    #f = open(filename,\"r\")\n",
    "    f = open(\"basis/\"*basis_name*\".gbs\",\"r\")\n",
    "    lines = readlines(f)\n",
    "    close(f)\n",
    "    \n",
    "    # Find_atom\n",
    "    atom_line = 0\n",
    "    for (i,line) in enumerate(lines)\n",
    "        splitted_line = split(line)\n",
    "        if(size(splitted_line)[1]>0)\n",
    "            if(occursin(\"****\",splitted_line[1]))\n",
    "                next_line = split(lines[i+1])\n",
    "                if(size(next_line)[1]>0)        \n",
    "                    if(next_line[1] == element)\n",
    "                        atom_line = i+1\n",
    "                        break\n",
    "                    end\n",
    "                end\n",
    "            end\n",
    "        end\n",
    "    end\n",
    "\n",
    "    # Read shells\n",
    "    num_of_primitives = 0\n",
    "    l = 0\n",
    "    exp = []\n",
    "    coef = []\n",
    "    for line in lines[atom_line+1:size(lines)[1]]\n",
    "        splitted_line = split(line)\n",
    "        if(size(splitted_line)[1]==3)\n",
    "            exp = []\n",
    "            coef = []\n",
    "            try\n",
    "                l = parse(Int,splitted_line[1])\n",
    "            catch\n",
    "                l = key_to_l[splitted_line[1]]\n",
    "            end\n",
    "            num_of_primitives = parse(Int,splitted_line[2])\n",
    "        elseif(size(splitted_line)[1]==2)\n",
    "            append!(exp,parse(Float64,splitted_line[1]))           \n",
    "            append!(coef,parse(Float64,splitted_line[2]))\n",
    "            if(size(exp)[1] == num_of_primitives)\n",
    "                if(auxiliar)\n",
    "                    shell = build_aux_shell(l,exp,coef,coord)\n",
    "                else\n",
    "                    shell = build_shell(l,exp,coef,coord,normalized=normalized)\n",
    "                end\n",
    "                push!(shells,shell)\n",
    "            end\n",
    "        end\n",
    "        if(occursin(\"****\",splitted_line[1]))\n",
    "            break\n",
    "        end\n",
    "    end\n",
    "            \n",
    "    return shells\n",
    "                        \n",
    "end"
   ]
  },
  {
   "cell_type": "code",
   "execution_count": 9,
   "id": "7ff7e003",
   "metadata": {},
   "outputs": [
    {
     "data": {
      "text/plain": [
       "9-element Vector{Any}:\n",
       " shell(0, [11720.0, 1759.0, 400.8, 113.7, 37.03, 13.27, 5.025, 1.013, 0.3023], [0.569986149793314, 1.058880501673631, 1.7771678966453877, 2.600709693959018, 3.028357204192797, 2.223503905508639, 0.6481188547796517, 0.011124247231272932, -0.0007511028383196536], [0.0, 0.0, 0.0], [1.0], [[0, 0, 0]])\n",
       " shell(0, [11720.0, 1759.0, 400.8, 113.7, 37.03, 13.27, 5.025, 1.013, 0.3023], [-0.12844755012231768, -0.24449099282587303, -0.40009729327831506, -0.6381663487030188, -0.7587848290723769, -0.8196486224662376, -0.27975700946278415, 0.4011060836621272, 0.1664219730305194], [0.0, 0.0, 0.0], [1.0], [[0, 0, 0]])\n",
       " shell(0, [0.3023], [0.2905619240088511], [0.0, 0.0, 0.0], [1.0], [[0, 0, 0]])\n",
       " shell(0, [0.07896], [0.10616110906976056], [0.0, 0.0, 0.0], [1.0], [[0, 0, 0]])\n",
       " shell(1, [17.7, 3.854, 1.046, 0.2753], [2.226162227432104, 1.7619764776359819, 0.7670792917006999, 0.13090512359254836], [0.0, 0.0, 0.0], [1.0, 1.0, 1.0], [[1, 0, 0], [0, 1, 0], [0, 0, 1]])\n",
       " shell(1, [0.2753], [0.2842482843865529], [0.0, 0.0, 0.0], [1.0, 1.0, 1.0], [[1, 0, 0], [0, 1, 0], [0, 0, 1]])\n",
       " shell(1, [0.06856], [0.05000674641915474], [0.0, 0.0, 0.0], [1.0, 1.0, 1.0], [[1, 0, 0], [0, 1, 0], [0, 0, 1]])\n",
       " shell(2, [1.185], [3.8368709884748156], [0.0, 0.0, 0.0], [0.5773502691896257, 1.0, 1.0, 0.5773502691896257, 1.0, 0.5773502691896257], [[2, 0, 0], [1, 1, 0], [1, 0, 1], [0, 2, 0], [0, 1, 1], [0, 0, 2]])\n",
       " shell(2, [0.332], [0.41396319483973254], [0.0, 0.0, 0.0], [0.5773502691896257, 1.0, 1.0, 0.5773502691896257, 1.0, 0.5773502691896257], [[2, 0, 0], [1, 1, 0], [1, 0, 1], [0, 2, 0], [0, 1, 1], [0, 0, 2]])"
      ]
     },
     "execution_count": 9,
     "metadata": {},
     "output_type": "execute_result"
    }
   ],
   "source": [
    "shells = build_set_of_shells(\"O\",[0.0,0.0,0.0],\"aug-cc-pvdz\",normalized=true)"
   ]
  },
  {
   "cell_type": "code",
   "execution_count": 10,
   "id": "208b0dae",
   "metadata": {},
   "outputs": [
    {
     "data": {
      "text/plain": [
       "build_molecule (generic function with 1 method)"
      ]
     },
     "execution_count": 10,
     "metadata": {},
     "output_type": "execute_result"
    }
   ],
   "source": [
    "struct molecule\n",
    "    symbols\n",
    "    Zs\n",
    "    coords\n",
    "end\n",
    "\n",
    "function build_molecule(xyz;units=\"Angstrom\")\n",
    "    \n",
    "    symbols = []\n",
    "    Zs = []\n",
    "    coords = []\n",
    "    \n",
    "    symbol_to_Z = Dict(\"H\" => 1, \"He\" => 2, \"Li\" => 3,\n",
    "        \"Be\" => 4, \"B\" => 5, \"C\" => 6, \"N\" => 7, \"O\" => 8, \"F\" => 9, \"Ne\" => 10,\n",
    "        \"Na\" => 11, \"Mg\" => 12, \"Al\" => 13, \"Si\" => 14, \"P\" => 15,\"S\" => 16, \"Cl\" => 17, \"Ar\" => 18,\n",
    "        \"K\" => 19, \"Ca\" => 20, \"Sc\" => 21, \"Ti\" => 22, \"V\" => 23,\"Cr\" => 24, \"Mn\" => 25, \"Fe\" => 26, \"Co\" => 27, \"Ni\" => 28, \"Cu\" => 29, \"Zn\" => 30, \"Ga\" => 31,\"Ge\" => 32, \"As\" => 33, \"Se\" => 34, \"Br\" => 35, \"Kr\" => 36,\n",
    "        \"Rb\" => 37, \"Sr\" => 38, \"Y\" => 39, \"Zr\" => 40, \"Nb\" => 41,\"Mo\" => 42, \"Tc\" => 43, \"Ru\" => 44, \"Rh\" => 45, \"Pd\" => 46, \"Ag\" => 47, \"Cd\" => 48, \"In\" => 49,\"Sn\" => 50, \"Sb\" => 51, \"Te\" => 52, \"I\" => 53, \"Xe\" => 54,)     \n",
    "    \n",
    "    xyz = split(xyz,\"\\n\")    \n",
    "    natoms = size(xyz)[1]\n",
    "    for iatom in 1:natoms\n",
    "        atom = split(xyz[iatom])\n",
    "        if size(atom)[1] >= 1\n",
    "            append!(symbols,atom[1])\n",
    "            append!(Zs,symbol_to_Z[atom[1]])\n",
    "            append!(coords,[[parse(Float64,atom[2]),parse(Float64,atom[3]),parse(Float64,atom[4])]])\n",
    "        end\n",
    "    end\n",
    "    \n",
    "    if(units==\"Angstrom\")\n",
    "        coords = coords*1.88973\n",
    "    end\n",
    "    \n",
    "    return molecule(symbols,Zs,coords)\n",
    "\n",
    "end"
   ]
  },
  {
   "cell_type": "code",
   "execution_count": 11,
   "id": "9117598a",
   "metadata": {},
   "outputs": [
    {
     "data": {
      "text/plain": [
       "molecule(Any['O', 'H', 'H'], Any[8, 1, 1], [[0.0, 0.0, 0.0], [0.524211102, 1.687339917, 0.480747312], [1.146688164, -0.450322659, -1.3547474369999999]])"
      ]
     },
     "execution_count": 11,
     "metadata": {},
     "output_type": "execute_result"
    }
   ],
   "source": [
    "mol = build_molecule(\"\"\"\n",
    "O   0.000000  0.000000  0.000000\n",
    "H   0.277400  0.892900  0.254400\n",
    "H   0.606800 -0.238300 -0.716900\n",
    "\"\"\")"
   ]
  },
  {
   "cell_type": "code",
   "execution_count": 12,
   "id": "d0c023e7",
   "metadata": {},
   "outputs": [
    {
     "data": {
      "text/plain": [
       "build_basis (generic function with 1 method)"
      ]
     },
     "execution_count": 12,
     "metadata": {},
     "output_type": "execute_result"
    }
   ],
   "source": [
    "function build_basis(mol,basis_name;normalized=true,auxiliar=false)\n",
    "    shells = []\n",
    "    for (symbol,coord) in zip(mol.symbols,mol.coords)\n",
    "        shell = build_set_of_shells(string(symbol),coord,basis_name,normalized=normalized,auxiliar=auxiliar)\n",
    "        append!(shells,shell)\n",
    "    end\n",
    "    return shells        \n",
    "end"
   ]
  },
  {
   "cell_type": "code",
   "execution_count": 13,
   "id": "17652ae5",
   "metadata": {},
   "outputs": [
    {
     "data": {
      "text/plain": [
       "19-element Vector{Any}:\n",
       " shell(0, [11720.0, 1759.0, 400.8, 113.7, 37.03, 13.27, 5.025, 1.013, 0.3023], [0.569986149793314, 1.058880501673631, 1.7771678966453877, 2.600709693959018, 3.028357204192797, 2.223503905508639, 0.6481188547796517, 0.011124247231272932, -0.0007511028383196536], [0.0, 0.0, 0.0], [1.0], [[0, 0, 0]])\n",
       " shell(0, [11720.0, 1759.0, 400.8, 113.7, 37.03, 13.27, 5.025, 1.013, 0.3023], [-0.12844755012231768, -0.24449099282587303, -0.40009729327831506, -0.6381663487030188, -0.7587848290723769, -0.8196486224662376, -0.27975700946278415, 0.4011060836621272, 0.1664219730305194], [0.0, 0.0, 0.0], [1.0], [[0, 0, 0]])\n",
       " shell(0, [0.3023], [0.2905619240088511], [0.0, 0.0, 0.0], [1.0], [[0, 0, 0]])\n",
       " shell(0, [0.07896], [0.10616110906976056], [0.0, 0.0, 0.0], [1.0], [[0, 0, 0]])\n",
       " shell(1, [17.7, 3.854, 1.046, 0.2753], [2.226162227432104, 1.7619764776359819, 0.7670792917006999, 0.13090512359254836], [0.0, 0.0, 0.0], [1.0, 1.0, 1.0], [[1, 0, 0], [0, 1, 0], [0, 0, 1]])\n",
       " shell(1, [0.2753], [0.2842482843865529], [0.0, 0.0, 0.0], [1.0, 1.0, 1.0], [[1, 0, 0], [0, 1, 0], [0, 0, 1]])\n",
       " shell(1, [0.06856], [0.05000674641915474], [0.0, 0.0, 0.0], [1.0, 1.0, 1.0], [[1, 0, 0], [0, 1, 0], [0, 0, 1]])\n",
       " shell(2, [1.185], [3.8368709884748156], [0.0, 0.0, 0.0], [0.5773502691896257, 1.0, 1.0, 0.5773502691896257, 1.0, 0.5773502691896257], [[2, 0, 0], [1, 1, 0], [1, 0, 1], [0, 2, 0], [0, 1, 1], [0, 0, 2]])\n",
       " shell(2, [0.332], [0.41396319483973254], [0.0, 0.0, 0.0], [0.5773502691896257, 1.0, 1.0, 0.5773502691896257, 1.0, 0.5773502691896257], [[2, 0, 0], [1, 1, 0], [1, 0, 1], [0, 2, 0], [0, 1, 1], [0, 0, 2]])\n",
       " shell(0, [13.01, 1.962, 0.4446, 0.122], [0.09610661098332268, 0.16301997479104427, 0.18554502268336198, 0.07374379198350509], [0.524211102, 1.687339917, 0.480747312], [1.0], [[0, 0, 0]])\n",
       " shell(0, [0.122], [0.14712279442857357], [0.524211102, 1.687339917, 0.480747312], [1.0], [[0, 0, 0]])\n",
       " shell(0, [0.02974], [0.05104060521120047], [0.524211102, 1.687339917, 0.480747312], [1.0], [[0, 0, 0]])\n",
       " shell(1, [0.727], [0.9568813750595656], [0.524211102, 1.687339917, 0.480747312], [1.0, 1.0, 1.0], [[1, 0, 0], [0, 1, 0], [0, 0, 1]])\n",
       " shell(1, [0.141], [0.12315838313703437], [0.524211102, 1.687339917, 0.480747312], [1.0, 1.0, 1.0], [[1, 0, 0], [0, 1, 0], [0, 0, 1]])\n",
       " shell(0, [13.01, 1.962, 0.4446, 0.122], [0.09610661098332268, 0.16301997479104427, 0.18554502268336198, 0.07374379198350509], [1.146688164, -0.450322659, -1.3547474369999999], [1.0], [[0, 0, 0]])\n",
       " shell(0, [0.122], [0.14712279442857357], [1.146688164, -0.450322659, -1.3547474369999999], [1.0], [[0, 0, 0]])\n",
       " shell(0, [0.02974], [0.05104060521120047], [1.146688164, -0.450322659, -1.3547474369999999], [1.0], [[0, 0, 0]])\n",
       " shell(1, [0.727], [0.9568813750595656], [1.146688164, -0.450322659, -1.3547474369999999], [1.0, 1.0, 1.0], [[1, 0, 0], [0, 1, 0], [0, 0, 1]])\n",
       " shell(1, [0.141], [0.12315838313703437], [1.146688164, -0.450322659, -1.3547474369999999], [1.0, 1.0, 1.0], [[1, 0, 0], [0, 1, 0], [0, 0, 1]])"
      ]
     },
     "execution_count": 13,
     "metadata": {},
     "output_type": "execute_result"
    }
   ],
   "source": [
    "shells = build_basis(mol,\"aug-cc-pvdz\")"
   ]
  },
  {
   "cell_type": "code",
   "execution_count": 14,
   "id": "05eff89d",
   "metadata": {},
   "outputs": [
    {
     "data": {
      "text/plain": [
       "get_nbf (generic function with 1 method)"
      ]
     },
     "execution_count": 14,
     "metadata": {},
     "output_type": "execute_result"
    }
   ],
   "source": [
    "function get_nbf(shells)\n",
    "    \n",
    "    nbf = 0\n",
    "    \n",
    "    for shell in shells\n",
    "        nbf += size(shell.orientaciones)[1]\n",
    "    end\n",
    "    \n",
    "    return nbf\n",
    "    \n",
    "end"
   ]
  },
  {
   "cell_type": "code",
   "execution_count": 15,
   "id": "d4214a2a",
   "metadata": {},
   "outputs": [
    {
     "data": {
      "text/plain": [
       "43"
      ]
     },
     "execution_count": 15,
     "metadata": {},
     "output_type": "execute_result"
    }
   ],
   "source": [
    "nbf = get_nbf(shells)"
   ]
  },
  {
   "cell_type": "markdown",
   "id": "374d314d",
   "metadata": {},
   "source": [
    "## MD"
   ]
  },
  {
   "cell_type": "code",
   "execution_count": 16,
   "id": "54a3aec1",
   "metadata": {},
   "outputs": [
    {
     "data": {
      "text/plain": [
       "build_R (generic function with 1 method)"
      ]
     },
     "execution_count": 16,
     "metadata": {},
     "output_type": "execute_result"
    }
   ],
   "source": [
    "function build_R(lt,alpha,Rpq,F,pairAB,pairCD)\n",
    "    R = [[[[[[0.0 for lz in 0:lt-n-lx-ly] for ly in 0:lt-n-lx] for lx in 0:lt-n] for n in 0:lt] for jj in eachindex(pairCD.exp)] for ii in eachindex(pairAB.exp)]\n",
    "    for ii in eachindex(pairAB.exp)\n",
    "        for jj in eachindex(pairCD.exp)\n",
    "            for nini in 0:lt\n",
    "                R[ii][jj][nini+1][1][1][1] = (-2*alpha[ii][jj])^nini*2*pi^(5/2)/(pairAB.exp[ii]*pairCD.exp[jj]*sqrt(pairAB.exp[ii]+pairCD.exp[jj]))*F[ii][jj][nini+1]\n",
    "                l = 0\n",
    "                for n in nini-1:-1:0\n",
    "                    l += 1\n",
    "                    for lx in 0:l\n",
    "                        for ly in 0:l-lx\n",
    "                            lz = l-lx-ly\n",
    "                            if(lz>=2)\n",
    "                                R[ii][jj][n+1][lx+1][ly+1][lz+1] += (lz-1)*R[ii][jj][n+2][lx+1][ly+1][lz-1]\n",
    "                            end\n",
    "                            if(lz>=1)\n",
    "                                R[ii][jj][n+1][lx+1][ly+1][lz+1] += Rpq[ii][jj][3]*R[ii][jj][n+2][lx+1][ly+1][lz]\n",
    "                            end\n",
    "                        end\n",
    "                        ly = l-lx\n",
    "                        if(ly>=2)\n",
    "                            R[ii][jj][n+1][lx+1][l-lx+1][1] += (ly-1)*R[ii][jj][n+2][lx+1][l-lx-1][1]\n",
    "                        end\n",
    "                        if(ly>=1)\n",
    "                            R[ii][jj][n+1][lx+1][l-lx+1][1] += Rpq[ii][jj][2]*R[ii][jj][n+2][lx+1][l-lx][1]\n",
    "                        end\n",
    "                    end\n",
    "                    lx = l\n",
    "                    if(lx>=2)\n",
    "                        R[ii][jj][n+1][l+1][1][1] += (lx-1)*R[ii][jj][n+2][l-1][1][1]\n",
    "                    end\n",
    "                    if(lx>=1)\n",
    "                        R[ii][jj][n+1][l+1][1][1] += Rpq[ii][jj][1]*R[ii][jj][n+2][l][1][1]                \n",
    "                    end\n",
    "                end\n",
    "            end\n",
    "        end\n",
    "    end\n",
    "             \n",
    "    return R\n",
    "\n",
    "end"
   ]
  },
  {
   "cell_type": "code",
   "execution_count": 17,
   "id": "c12c4455",
   "metadata": {},
   "outputs": [
    {
     "data": {
      "text/plain": [
       "build_E (generic function with 1 method)"
      ]
     },
     "execution_count": 17,
     "metadata": {},
     "output_type": "execute_result"
    }
   ],
   "source": [
    "function build_E(l1,l2,pair)\n",
    "    E = [[[[[0.0 for t in 0:la+lb] for lb in 0:l2] for la in 0:l1] for xyz in 1:3] for ii in eachindex(pair.exp)]\n",
    "\n",
    "    for ii in eachindex(pair.exp)\n",
    "        for xyz in 1:3\n",
    "            E[ii][xyz][1][1][1] = exp(-pair.alpha[ii]*(pair.g_b.coord[xyz]-pair.g_a.coord[xyz])^2)\n",
    "            for la in 0:l1\n",
    "                for lb in 0:l2\n",
    "                    for t in 0:la+lb\n",
    "                        if(lb>0)\n",
    "                            if(t>0)               \n",
    "                                E[ii][xyz][la+1][lb+1][t+1] += 1/(2*pair.exp[ii])*E[ii][xyz][la+1][lb][t]\n",
    "                            end\n",
    "                            if(t<=la+lb-1)\n",
    "                                E[ii][xyz][la+1][lb+1][t+1] += (pair.coord[ii][xyz]-pair.g_b.coord[xyz])*E[ii][xyz][la+1][lb][t+1]\n",
    "                            end\n",
    "                            if(t+1<=la+lb-1)\n",
    "                                E[ii][xyz][la+1][lb+1][t+1] += (t+1)*E[ii][xyz][la+1][lb][t+2]\n",
    "                            end\n",
    "                        elseif(la>0)\n",
    "                            if(t>0)               \n",
    "                                E[ii][xyz][la+1][lb+1][t+1] += 1/(2*pair.exp[ii])*E[ii][xyz][la][lb+1][t]\n",
    "                            end\n",
    "                            if(t<=la-1+lb)\n",
    "                                E[ii][xyz][la+1][lb+1][t+1] += (pair.coord[ii][xyz]-pair.g_a.coord[xyz])*E[ii][xyz][la][lb+1][t+1]\n",
    "                            end\n",
    "                            if(t+1<=la-1+lb)\n",
    "                                E[ii][xyz][la+1][lb+1][t+1] += (t+1)*E[ii][xyz][la][lb+1][t+2]\n",
    "                            end\n",
    "                        end\n",
    "                    end\n",
    "                end\n",
    "            end\n",
    "        end\n",
    "    end\n",
    "                                \n",
    "    return E\n",
    "    \n",
    "end"
   ]
  },
  {
   "cell_type": "markdown",
   "id": "f1f6a15c",
   "metadata": {},
   "source": [
    "## Overlap"
   ]
  },
  {
   "cell_type": "code",
   "execution_count": 18,
   "id": "089a4167",
   "metadata": {},
   "outputs": [
    {
     "data": {
      "text/plain": [
       "overlap (generic function with 1 method)"
      ]
     },
     "execution_count": 18,
     "metadata": {},
     "output_type": "execute_result"
    }
   ],
   "source": [
    "function overlap(pairAB)\n",
    "    \n",
    "    g_a = pairAB.g_a\n",
    "    g_b = pairAB.g_b\n",
    "\n",
    "    Eab = build_E(g_a.l,g_b.l,pairAB)\n",
    "    result = zeros(size(g_a.orientaciones)[1],size(g_b.orientaciones)[1])\n",
    "\n",
    "    for (a,(lax,lay,laz)) in enumerate(g_a.orientaciones)\n",
    "        for (b,(lbx,lby,lbz)) in enumerate(g_b.orientaciones)\n",
    "        \n",
    "            integral = 0.0\n",
    "            for ii in eachindex(pairAB.exp)\n",
    "                t_z = 0\n",
    "                t_y = 0\n",
    "                t_x = 0\n",
    "                integral += Eab[ii][1][lax+1][lbx+1][t_x+1]*\n",
    "                            Eab[ii][2][lay+1][lby+1][t_y+1]*\n",
    "                            Eab[ii][3][laz+1][lbz+1][t_z+1]*\n",
    "                            (pi/pairAB.exp[ii])^1.5*pairAB.coef[ii]\n",
    "            end           \n",
    "            result[a,b] = g_a.N[a]*g_b.N[b]*integral\n",
    "        end\n",
    "    end\n",
    "    \n",
    "    return result\n",
    "    \n",
    "end"
   ]
  },
  {
   "cell_type": "code",
   "execution_count": 19,
   "id": "f6674ce8",
   "metadata": {},
   "outputs": [
    {
     "data": {
      "text/plain": [
       "build_S (generic function with 1 method)"
      ]
     },
     "execution_count": 19,
     "metadata": {},
     "output_type": "execute_result"
    }
   ],
   "source": [
    "function build_S(shells)\n",
    "    \n",
    "    nbf = get_nbf(shells)\n",
    "    \n",
    "    S = zeros(nbf,nbf)\n",
    "    i = 1\n",
    "    for g_a in shells\n",
    "        j = 1\n",
    "        for g_b in shells\n",
    "            pair = build_shell_pair(g_a,g_b)\n",
    "            results = overlap(pair)\n",
    "            S[i:i+size(g_a.orientaciones)[1]-1,j:j+size(g_b.orientaciones)[1]-1] = results\n",
    "            j += size(g_b.orientaciones)[1]\n",
    "        end\n",
    "        i += size(g_a.orientaciones)[1]\n",
    "    end\n",
    "    \n",
    "    return S\n",
    "    \n",
    "end"
   ]
  },
  {
   "cell_type": "code",
   "execution_count": 20,
   "id": "fe127a67",
   "metadata": {},
   "outputs": [
    {
     "name": "stdout",
     "output_type": "stream",
     "text": [
      "  2.404 ms (42554 allocations: 2.93 MiB)\n"
     ]
    },
    {
     "data": {
      "text/plain": [
       "43×43 Matrix{Float64}:\n",
       "  1.0          1.13819e-6   0.191896   …   0.0233769     0.0703268\n",
       "  1.13819e-6   1.0          0.933324       0.135473      0.407555\n",
       "  0.191896     0.933324     1.0            0.150186      0.451817\n",
       "  0.0733788    0.599091     0.729621       0.0962764     0.289637\n",
       "  0.0          0.0          0.0            0.0445103     0.133904\n",
       "  0.0          0.0          0.0        …   0.401484     -0.0525864\n",
       "  0.0          0.0          0.0           -0.0525864     0.260763\n",
       "  0.0          0.0          0.0            0.0614013     0.184719\n",
       "  0.0          0.0          0.0            0.613503     -0.0725421\n",
       "  0.0          0.0          0.0           -0.0725421     0.419381\n",
       "  0.0          0.0          0.0        …   0.0348115     0.104727\n",
       "  0.0          0.0          0.0            0.717034     -0.0411278\n",
       "  0.0          0.0          0.0           -0.0411278     0.606977\n",
       "  ⋮                                    ⋱                \n",
       " -0.0272125   -0.157701    -0.174828       0.104317      0.0895712\n",
       " -0.0875921   -0.50761     -0.562739       0.197761     -0.307599\n",
       " -0.0249562   -0.144625    -0.160332      -0.307599      0.291879\n",
       "  0.0636814    0.512368     0.610287       3.65765e-17   7.51173e-17\n",
       "  0.0674306    0.532768     0.643516   …   4.15255e-17   1.66102e-16\n",
       "  0.0322159    0.311234     0.394153      -2.75411e-17   0.0\n",
       " -0.0661743   -0.266183    -0.244021       0.0           0.0\n",
       "  0.0259877    0.104534     0.0958311      0.467431      0.0\n",
       "  0.0781812    0.31448      0.288298       0.0           0.467431\n",
       " -0.0595262   -0.344963    -0.382428   …   0.0           0.0\n",
       "  0.0233769    0.135473     0.150186       1.0           0.0\n",
       "  0.0703268    0.407555     0.451817       0.0           1.0"
      ]
     },
     "execution_count": 20,
     "metadata": {},
     "output_type": "execute_result"
    }
   ],
   "source": [
    "@btime S = build_S(shells)"
   ]
  },
  {
   "cell_type": "markdown",
   "id": "c0e1edd4",
   "metadata": {},
   "source": [
    "# Cinética"
   ]
  },
  {
   "cell_type": "code",
   "execution_count": 21,
   "id": "b46eb273",
   "metadata": {},
   "outputs": [
    {
     "data": {
      "text/plain": [
       "Tij (generic function with 1 method)"
      ]
     },
     "execution_count": 21,
     "metadata": {},
     "output_type": "execute_result"
    }
   ],
   "source": [
    "function Tij(la,lb,xyz,pairAB)\n",
    "    \n",
    "    Eab = build_E(pairAB.g_a.l,pairAB.g_b.l,pairAB)\n",
    "    \n",
    "    S = [[[0.0 for j in 0:lb] for i in 0:la] for ii in eachindex(pairAB.exp)]\n",
    "    T = [[[0.0 for j in 0:lb] for i in 0:la] for ii in eachindex(pairAB.exp)]\n",
    "    \n",
    "    for ii in eachindex(pairAB.exp)\n",
    "        i = 0\n",
    "        t = 0\n",
    "        for j in 0:lb\n",
    "            S[ii][i+1][j+1] = Eab[ii][xyz][i+1][j+1][t+1]*(pi/pairAB.exp[ii])^0.5            \n",
    "        end\n",
    "        for i in 1:la\n",
    "            for j in max(0,lb-la+i):lb\n",
    "                S[ii][i+1][j+1] = Eab[ii][xyz][i+1][j+1][t+1]*(pi/pairAB.exp[ii])^0.5\n",
    "            end\n",
    "        end\n",
    "    end\n",
    "\n",
    "    ii = 0\n",
    "    for jprim in 1:size(pairAB.g_b.exp)[1], iprim in 1:size(pairAB.g_a.exp)[1]\n",
    "        ii += 1\n",
    "        i=0\n",
    "        j=0\n",
    "        T[ii][i+1][j+1] = (pairAB.g_a.exp[iprim] - 2*pairAB.g_a.exp[iprim]^2 * ((pairAB.coord[ii][xyz]-pairAB.g_a.coord[xyz])^2 + 1/(2*pairAB.exp[ii]))) * S[ii][i+1][j+1]\n",
    "        for j in 1:lb\n",
    "            T[ii][i+1][j+1] = (pairAB.coord[ii][xyz]-pairAB.g_b.coord[xyz])*T[ii][i+1][j+1] + pairAB.g_a.exp[iprim]/pairAB.exp[ii]*2*pairAB.g_b.exp[jprim]*S[ii][i+1][j+1] \n",
    "            if(j>1)\n",
    "                T[ii][i+1][j+1] += (j-1)/(2*pairAB.exp[ii])*T[ii][i+1][j-1] - pairAB.g_a.exp[iprim]/pairAB.exp[ii]*(j)*S[ii][i+1][j-1]\n",
    "            end\n",
    "        end\n",
    "        for i in 1:la\n",
    "            for j in max(0,lb-la+i):lb\n",
    "                T[ii][i+1][j+1] = (pairAB.coord[ii][xyz]-pairAB.g_a.coord[xyz])*T[ii][i][j+1] + pairAB.g_b.exp[jprim]/pairAB.exp[ii]*2*pairAB.g_a.exp[iprim]*S[ii][i+1][j+1] \n",
    "                if(i>1)\n",
    "                    T[ii][i+1][j+1] += (i-1)/(2*pairAB.exp[ii])*T[ii][i-1][j+1] - pairAB.g_b.exp[jprim]/pairAB.exp[ii]*(i-1)*S[ii][i-1][j+1]\n",
    "                end\n",
    "                if(j>0)\n",
    "                    T[ii][i+1][j+1] += (j)/(2*pairAB.exp[ii])*T[ii][i][j]# - pairAB.g_b.exp[jprim]/pairAB.exp[ii]*(i-1)*S[ii][i-1][j+1]\n",
    "                end\n",
    "            end\n",
    "        end\n",
    "    end       \n",
    "        \n",
    "    return [T[ii][la+1][lb+1] for ii in eachindex(pairAB.exp)]\n",
    "        \n",
    "end"
   ]
  },
  {
   "cell_type": "code",
   "execution_count": 22,
   "id": "536a0203",
   "metadata": {
    "scrolled": true
   },
   "outputs": [
    {
     "data": {
      "text/plain": [
       "kinetic (generic function with 1 method)"
      ]
     },
     "execution_count": 22,
     "metadata": {},
     "output_type": "execute_result"
    }
   ],
   "source": [
    "function kinetic(pairAB)\n",
    "    \n",
    "    g_a = pairAB.g_a\n",
    "    g_b = pairAB.g_b\n",
    "\n",
    "    Eab = build_E(g_a.l,g_b.l,pairAB)\n",
    "\n",
    "    result = zeros((size(g_a.orientaciones)[1],size(g_b.orientaciones)[1]))\n",
    "\n",
    "    for (a,(lax,lay,laz)) in enumerate(g_a.orientaciones)\n",
    "        for (b,(lbx,lby,lbz)) in enumerate(g_b.orientaciones)\n",
    "        \n",
    "            Tx = Tij(lax,lbx,1,pairAB)\n",
    "            Ty = Tij(lay,lby,2,pairAB)\n",
    "            Tz = Tij(laz,lbz,3,pairAB)\n",
    "        \n",
    "            integral = 0.0\n",
    "            for ii in eachindex(pairAB.exp)\n",
    "                tx,ty,tz = 0,0,0\n",
    "                Sx = Eab[ii][1][lax+1][lbx+1][tx+1]*(pi/pairAB.exp[ii])^0.5\n",
    "                Sy = Eab[ii][2][lay+1][lby+1][ty+1]*(pi/pairAB.exp[ii])^0.5\n",
    "                Sz = Eab[ii][3][laz+1][lbz+1][tz+1]*(pi/pairAB.exp[ii])^0.5\n",
    "                integral += pairAB.coef[ii]*(Tx[ii]*Sy*Sz + Ty[ii]*Sx*Sz + Tz[ii]*Sx*Sy)\n",
    "            end           \n",
    "            result[a,b] = g_a.N[a]*g_b.N[b]*integral\n",
    "        end\n",
    "    end\n",
    "    \n",
    "    return result\n",
    "    \n",
    "end"
   ]
  },
  {
   "cell_type": "code",
   "execution_count": 23,
   "id": "b251da84",
   "metadata": {},
   "outputs": [
    {
     "data": {
      "text/plain": [
       "1×1 Matrix{Float64}:\n",
       " 29.214928025012608"
      ]
     },
     "execution_count": 23,
     "metadata": {},
     "output_type": "execute_result"
    }
   ],
   "source": [
    "pair = build_shell_pair(shells[1],shells[1])\n",
    "results = kinetic(pair)"
   ]
  },
  {
   "cell_type": "code",
   "execution_count": 24,
   "id": "34405bcf",
   "metadata": {},
   "outputs": [
    {
     "data": {
      "text/plain": [
       "build_T (generic function with 1 method)"
      ]
     },
     "execution_count": 24,
     "metadata": {},
     "output_type": "execute_result"
    }
   ],
   "source": [
    "function build_T(shells)\n",
    "    \n",
    "    nbf = get_nbf(shells)\n",
    "    \n",
    "    T = zeros(nbf,nbf)\n",
    "    i = 1\n",
    "    for g_a in shells\n",
    "        j = 1\n",
    "        for g_b in shells\n",
    "            pair = build_shell_pair(g_a,g_b)\n",
    "            results = kinetic(pair)\n",
    "            T[i:i+size(g_a.orientaciones)[1]-1,j:j+size(g_b.orientaciones)[1]-1] = results\n",
    "            j += size(g_b.orientaciones)[1]\n",
    "        end\n",
    "        i += size(g_a.orientaciones)[1]\n",
    "    end\n",
    "    \n",
    "    return T\n",
    "    \n",
    "end"
   ]
  },
  {
   "cell_type": "code",
   "execution_count": 25,
   "id": "0b345b12",
   "metadata": {},
   "outputs": [
    {
     "name": "stdout",
     "output_type": "stream",
     "text": [
      "  16.242 ms (436862 allocations: 29.70 MiB)\n"
     ]
    },
    {
     "data": {
      "text/plain": [
       "43×43 Matrix{Float64}:\n",
       "  29.2149      -8.02494     0.166707   …   0.010113      0.0348082\n",
       "  -8.02494      3.10608     0.499513       0.047494      0.157816\n",
       "   0.166707     0.499513    0.45345        0.0490145     0.161094\n",
       "   0.0172121    0.117919    0.137038       0.0179382     0.0563881\n",
       "   0.0          0.0         0.0            0.024884      0.0797902\n",
       "   0.0          0.0         0.0        …   0.175368     -0.0313349\n",
       "   0.0          0.0         0.0           -0.029399      0.0908728\n",
       "   0.0          0.0         0.0            0.0309882     0.0984684\n",
       "   0.0          0.0         0.0            0.247922     -0.0386701\n",
       "   0.0          0.0         0.0           -0.0366108     0.143757\n",
       "   0.0          0.0         0.0        …   0.00916836    0.0283097\n",
       "   0.0          0.0         0.0            0.154509     -0.0111177\n",
       "   0.0          0.0         0.0           -0.0108319     0.124663\n",
       "   ⋮                                   ⋱                \n",
       "  -0.0153231   -0.0711784  -0.0732112      0.0402307     0.0334749\n",
       "  -0.0493222   -0.22911    -0.235654       0.0118145    -0.114957\n",
       "  -0.0140526   -0.0652768  -0.0671411     -0.118628      0.0512642\n",
       " -27.7766       7.93278     0.160688       1.2195e-17    1.74993e-17\n",
       "   0.0177789    0.117619    0.135201   …   1.08642e-17   4.34569e-17\n",
       "   0.00267542   0.0241361   0.0300788     -2.70562e-18   0.0\n",
       "  -0.0249739   -0.235357   -0.18591        0.0           0.0\n",
       "   0.00980764   0.0924284   0.0730096      0.276008      0.0\n",
       "   0.0295052    0.278061    0.219642       0.0           0.276008\n",
       "  -0.0335186   -0.1557     -0.160146   …   0.0           0.0\n",
       "   0.0131633    0.0611457   0.062892       0.3525        0.0\n",
       "   0.0396004    0.18395     0.189204       0.0           0.3525"
      ]
     },
     "execution_count": 25,
     "metadata": {},
     "output_type": "execute_result"
    }
   ],
   "source": [
    "@btime T = build_T(shells)"
   ]
  },
  {
   "cell_type": "markdown",
   "id": "1dc1fcc8",
   "metadata": {},
   "source": [
    "# Potential"
   ]
  },
  {
   "cell_type": "code",
   "execution_count": 26,
   "id": "94b1b945",
   "metadata": {},
   "outputs": [
    {
     "data": {
      "text/plain": [
       "build_R_one (generic function with 1 method)"
      ]
     },
     "execution_count": 26,
     "metadata": {},
     "output_type": "execute_result"
    }
   ],
   "source": [
    "function build_R_one(coord,pairAB)\n",
    "    \n",
    "    p = pairAB.exp\n",
    "    Rpc = [pairAB.coord[ii]-coord for ii in eachindex(pairAB.exp)]\n",
    "    F = [[F_n(n,p[ii]*norm(Rpc[ii])^2) for n in 0:pairAB.g_a.l + pairAB.g_b.l] for ii in eachindex(pairAB.exp)]\n",
    "    lt = pairAB.g_a.l + pairAB.g_b.l\n",
    "    R = [[[[[0.0 for lz in 0:lt-n-lx-ly] for ly in 0:lt-n-lx] for lx in 0:lt-n] for n in 0:lt] for ii in eachindex(pairAB.exp)]\n",
    "\n",
    "    for ii in eachindex(pairAB.exp)\n",
    "        for nini in 0:lt\n",
    "            R[ii][nini+1][1][1][1] = (-2*p[ii])^nini*2*pi/p[ii]*F[ii][nini+1]\n",
    "            l = 0\n",
    "            for n in nini-1:-1:0\n",
    "                l += 1\n",
    "                for lx in 0:l\n",
    "                    for ly in 0:l-lx\n",
    "                        lz = l-lx-ly\n",
    "                        if(lz>=2)\n",
    "                            R[ii][n+1][lx+1][ly+1][lz+1] += (lz-1)*R[ii][n+2][lx+1][ly+1][lz-1]\n",
    "                        end\n",
    "                        if(lz>=1)\n",
    "                            R[ii][n+1][lx+1][ly+1][lz+1] += Rpc[ii][3]*R[ii][n+2][lx+1][ly+1][lz]\n",
    "                        end\n",
    "                    end\n",
    "                    ly = l-lx\n",
    "                    if(ly>=2)\n",
    "                        R[ii][n+1][lx+1][l-lx+1][1] += (ly-1)*R[ii][n+2][lx+1][l-lx-1][1]\n",
    "                    end\n",
    "                    if(ly>=1)\n",
    "                        R[ii][n+1][lx+1][l-lx+1][1] += Rpc[ii][2]*R[ii][n+2][lx+1][l-lx][1]\n",
    "                    end\n",
    "                end\n",
    "                lx = l\n",
    "                if(lx>=2)\n",
    "                    R[ii][n+1][l+1][1][1] += (lx-1)*R[ii][n+2][l-1][1][1]\n",
    "                end\n",
    "                if(lx>=1)\n",
    "                    R[ii][n+1][l+1][1][1] += Rpc[ii][1]*R[ii][n+2][l][1][1]                \n",
    "                end\n",
    "            end\n",
    "        end\n",
    "    end\n",
    "             \n",
    "    return R\n",
    "\n",
    "end"
   ]
  },
  {
   "cell_type": "code",
   "execution_count": 27,
   "id": "d190bf70",
   "metadata": {},
   "outputs": [
    {
     "data": {
      "text/plain": [
       "potential (generic function with 1 method)"
      ]
     },
     "execution_count": 27,
     "metadata": {},
     "output_type": "execute_result"
    }
   ],
   "source": [
    "function potential(pairAB,Z,coord)\n",
    "\n",
    "    g_a = pairAB.g_a\n",
    "    g_b = pairAB.g_b\n",
    "    \n",
    "    R = build_R_one(coord,pairAB)\n",
    "    Eab = build_E(pairAB.g_a.l,pairAB.g_b.l,pairAB)\n",
    "    \n",
    "    result = zeros(size(g_a.orientaciones)[1],size(g_b.orientaciones)[1])\n",
    "\n",
    "    for (a,(lax,lay,laz)) in enumerate(g_a.orientaciones)\n",
    "        for (b,(lbx,lby,lbz)) in enumerate(g_b.orientaciones)\n",
    "        \n",
    "            integral = 0.0\n",
    "            for ii in eachindex(pairAB.exp)\n",
    "                aux3 = 0\n",
    "                for t_z in 0:laz+lbz\n",
    "                    aux2 = 0    \n",
    "                    for t_y in 0:lay+lby\n",
    "                        aux1 = 0       \n",
    "                        for t_x in 0:lax+lbx\n",
    "                            aux1 += Eab[ii][1][lax+1][lbx+1][t_x+1]*R[ii][1][t_x+1][t_y+1][t_z+1]\n",
    "                        end\n",
    "                        aux2 += Eab[ii][2][lay+1][lby+1][t_y+1]*aux1\n",
    "                    end\n",
    "                    aux3 += Eab[ii][3][laz+1][lbz+1][t_z+1]*aux2\n",
    "                end\n",
    "                integral += aux3*pairAB.coef[ii]\n",
    "            end           \n",
    "            result[a,b] = g_a.N[a]*g_b.N[b]*integral\n",
    "        end\n",
    "    end\n",
    "    \n",
    "    return Z*result\n",
    "    \n",
    "end"
   ]
  },
  {
   "cell_type": "code",
   "execution_count": 28,
   "id": "9411498a",
   "metadata": {},
   "outputs": [
    {
     "data": {
      "text/plain": [
       "build_V (generic function with 1 method)"
      ]
     },
     "execution_count": 28,
     "metadata": {},
     "output_type": "execute_result"
    }
   ],
   "source": [
    "function build_V(shells,Zs,coords)\n",
    "    \n",
    "    nbf = get_nbf(shells)\n",
    "    \n",
    "    V = zeros(nbf,nbf)\n",
    "    i = 1\n",
    "    for g_a in shells\n",
    "        j = 1\n",
    "        for g_b in shells\n",
    "            pair = build_shell_pair(g_a,g_b)\n",
    "            for (Z,coord) in zip(Zs,coords)\n",
    "                results = potential(pair,Z,coord)\n",
    "                V[i:i+size(g_a.orientaciones)[1]-1,j:j+size(g_b.orientaciones)[1]-1] += results\n",
    "            end\n",
    "            j += size(g_b.orientaciones)[1]\n",
    "        end\n",
    "        i += size(g_a.orientaciones)[1]\n",
    "    end\n",
    "    \n",
    "    return V\n",
    "    \n",
    "end"
   ]
  },
  {
   "cell_type": "code",
   "execution_count": 29,
   "id": "8f27d853",
   "metadata": {},
   "outputs": [
    {
     "name": "stdout",
     "output_type": "stream",
     "text": [
      "  8.818 ms (169114 allocations: 11.66 MiB)\n"
     ]
    },
    {
     "data": {
      "text/plain": [
       "43×43 Matrix{Float64}:\n",
       " 62.2306       -8.651       6.07682    …  -1.86268    0.732698   2.20135\n",
       " -8.651        11.1953      7.42022       -2.60191    1.08737    3.11211\n",
       "  6.07682       7.42022     8.06317       -2.85287    1.20603    3.42028\n",
       "  2.27522       4.1268      4.77619       -1.64522    0.744414   2.00085\n",
       "  0.0167904     0.161348    0.171427       1.60763    0.31858    0.891173\n",
       "  0.0124304     0.119451    0.126912   …   0.230195   2.30457   -0.244847\n",
       " -0.00878262   -0.0843968  -0.0896685      0.839815  -0.329101   1.35653\n",
       "  0.00371393    0.145484    0.178822       2.09547    0.36057    0.981912\n",
       "  0.00274953    0.107706    0.132387       0.253247   2.87344   -0.260184\n",
       " -0.00194266   -0.0760985  -0.0935366      0.919551  -0.362489   1.81856\n",
       "  0.000710188   0.0507826   0.0686592  …   1.95903    0.183127   0.472863\n",
       "  0.000525772   0.0375958   0.0508304      0.125968   2.3296    -0.12813\n",
       " -0.00037148   -0.026563   -0.0359137      0.439651  -0.182616   1.81825\n",
       "  ⋮                                    ⋱   ⋮                    \n",
       " -0.850958     -1.15806    -1.26316        2.064      0.214      0.11727\n",
       " -2.74169      -3.87099    -4.25325        1.09514    0.31218   -2.05755\n",
       " -0.781918     -1.14537    -1.2673         0.629267  -1.2176     0.749223\n",
       "  1.96233       3.71361     4.25325       -0.700086   0.337963   0.863735\n",
       "  2.09276       3.74417     4.3189     …  -0.829971   0.412988   1.03114\n",
       "  0.995706      2.04125     2.42286       -0.529441   0.274732   0.664327\n",
       " -2.05538      -2.40812    -2.40233        2.46024   -0.11487   -0.334171\n",
       "  0.808388      0.982421    0.986679      -0.11487    2.24094    0.145085\n",
       "  2.42901       2.86639     2.86334       -0.334171   0.145085   2.58255\n",
       " -1.86268      -2.60191    -2.85287    …   3.74674   -0.164478  -0.453291\n",
       "  0.732698      1.08737     1.20603       -0.164478   3.49481    0.228457\n",
       "  2.20135       3.11211     3.42028       -0.453291   0.228457   3.93632"
      ]
     },
     "execution_count": 29,
     "metadata": {},
     "output_type": "execute_result"
    }
   ],
   "source": [
    "@btime V = build_V(shells,mol.Zs,mol.coords)"
   ]
  },
  {
   "cell_type": "markdown",
   "id": "0b618551",
   "metadata": {},
   "source": [
    "## 4-C ERIs"
   ]
  },
  {
   "cell_type": "code",
   "execution_count": 30,
   "id": "b4862dd5",
   "metadata": {},
   "outputs": [
    {
     "data": {
      "text/plain": [
       "ERI (generic function with 1 method)"
      ]
     },
     "execution_count": 30,
     "metadata": {},
     "output_type": "execute_result"
    }
   ],
   "source": [
    "function ERI(pairAB,pairCD)\n",
    "\n",
    "    g_a = pairAB.g_a\n",
    "    g_b = pairAB.g_b\n",
    "    g_c = pairCD.g_a\n",
    "    g_d = pairCD.g_b\n",
    "    \n",
    "    lt = pairAB.g_a.l + pairAB.g_b.l + pairCD.g_a.l + pairCD.g_b.l\n",
    "\n",
    "    # Build boys\n",
    "    alpha = [[pairAB.exp[ii]*pairCD.exp[jj]/(pairAB.exp[ii]+pairCD.exp[jj]) for jj in eachindex(pairCD.exp)] for ii in eachindex(pairAB.exp)]\n",
    "    Rpq = [[pairAB.coord[ii]-pairCD.coord[jj] for jj in eachindex(pairCD.exp)] for ii in eachindex(pairAB.exp)]\n",
    "    F = [[[F_n(n,alpha[ii][jj]*norm(Rpq[ii][jj])^2) for n in 0:lt] for jj in eachindex(pairCD.exp)] for ii in eachindex(pairAB.exp)]\n",
    "\n",
    "    # Build R\n",
    "    R = build_R(lt,alpha,Rpq,F,pairAB,pairCD)\n",
    "\n",
    "    # Build E\n",
    "    Eab = build_E(pairAB.g_a.l,pairAB.g_b.l,pairAB)\n",
    "    Ecd = build_E(pairCD.g_a.l,pairCD.g_b.l,pairCD)\n",
    "\n",
    "    result = zeros((size(g_a.orientaciones)[1],size(g_b.orientaciones)[1],size(g_c.orientaciones)[1],size(g_d.orientaciones)[1]))\n",
    "    for (a,(lax,lay,laz)) in enumerate(g_a.orientaciones)\n",
    "        for (b,(lbx,lby,lbz)) in enumerate(g_b.orientaciones)\n",
    "            for (c,(lcx,lcy,lcz)) in enumerate(g_c.orientaciones)\n",
    "                for (d,(ldx,ldy,ldz)) in enumerate(g_d.orientaciones)\n",
    "\n",
    "                    integral = 0.0\n",
    "                    for ii in eachindex(pairAB.exp)\n",
    "                        aux7 = 0\n",
    "                        for t_z in 0:laz+lbz\n",
    "                            aux6 = 0    \n",
    "                            for t_y in 0:lay+lby\n",
    "                                aux5 = 0        \n",
    "                                for t_x in 0:lax+lbx\n",
    "                                    aux4 = 0\n",
    "                                    for jj in eachindex(pairCD.exp)\n",
    "                                        aux3 = 0\n",
    "                                        for u_z in 0:lcz+ldz\n",
    "                                            aux2 = 0\n",
    "                                            for u_y in 0:lcy+ldy\n",
    "                                                aux1 = 0\n",
    "                                                for u_x in 0:lcx+ldx\n",
    "                                                    aux1 += (-1)^(u_x+u_y+u_z)*Ecd[jj][1][lcx+1][ldx+1][u_x+1]*R[ii][jj][1][t_x+u_x+1][t_y+u_y+1][t_z+u_z+1]\n",
    "                                                end\n",
    "                                                aux2 += Ecd[jj][2][lcy+1][ldy+1][u_y+1]*aux1\n",
    "                                            end\n",
    "                                            aux3 += Ecd[jj][3][lcz+1][ldz+1][u_z+1]*aux2\n",
    "                                        end\n",
    "                                        aux4 += aux3*pairCD.coef[jj]\n",
    "                                    end\n",
    "                                    aux5 += Eab[ii][1][lax+1][lbx+1][t_x+1]*aux4\n",
    "                                end\n",
    "                                aux6 += Eab[ii][2][lay+1][lby+1][t_y+1]*aux5\n",
    "                            end\n",
    "                            aux7 += Eab[ii][3][laz+1][lbz+1][t_z+1]*aux6\n",
    "                        end\n",
    "                        integral += aux7*pairAB.coef[ii]\n",
    "                    end           \n",
    "                    result[a,b,c,d] = g_a.N[a]*g_b.N[b]*g_c.N[c]*g_d.N[d]*integral\n",
    "                end\n",
    "            end\n",
    "        end\n",
    "    end\n",
    "    \n",
    "    return result\n",
    "    \n",
    "end      "
   ]
  },
  {
   "cell_type": "code",
   "execution_count": 31,
   "id": "c8228ba9",
   "metadata": {},
   "outputs": [
    {
     "name": "stdout",
     "output_type": "stream",
     "text": [
      "  6.831 μs (138 allocations: 10.11 KiB)\n"
     ]
    },
    {
     "data": {
      "text/plain": [
       "1×3×1×1 Array{Float64, 4}:\n",
       "[:, :, 1, 1] =\n",
       " 0.008391  -0.00329528  -0.0099135"
      ]
     },
     "execution_count": 31,
     "metadata": {},
     "output_type": "execute_result"
    }
   ],
   "source": [
    "@btime ERI(pairAB,pairCD)"
   ]
  },
  {
   "cell_type": "code",
   "execution_count": 32,
   "id": "66e53990",
   "metadata": {},
   "outputs": [
    {
     "data": {
      "text/plain": [
       "build_I4 (generic function with 1 method)"
      ]
     },
     "execution_count": 32,
     "metadata": {},
     "output_type": "execute_result"
    }
   ],
   "source": [
    "function build_I4(shells)\n",
    "    \n",
    "    nbf = get_nbf(shells)\n",
    "    \n",
    "    I = zeros(nbf,nbf,nbf,nbf)\n",
    "    i = 1\n",
    "    for g_a in shells\n",
    "        j = 1\n",
    "        for g_b in shells\n",
    "            pairAB = build_shell_pair(g_a,g_b)\n",
    "            k = 1\n",
    "            for g_c in shells\n",
    "                l = 1\n",
    "                for g_d in shells\n",
    "                    pairCD = build_shell_pair(g_c,g_d)\n",
    "                    results = ERI(pairAB,pairCD)\n",
    "                    I[i:i+size(g_a.orientaciones)[1]-1,\n",
    "                      j:j+size(g_b.orientaciones)[1]-1,\n",
    "                      k:k+size(g_c.orientaciones)[1]-1,\n",
    "                      l:l+size(g_d.orientaciones)[1]-1] = results\n",
    "                    l += size(g_d.orientaciones)[1]\n",
    "                end\n",
    "                k += size(g_c.orientaciones)[1]\n",
    "            end\n",
    "            j += size(g_b.orientaciones)[1]\n",
    "        end\n",
    "        i += size(g_a.orientaciones)[1]\n",
    "    end\n",
    "    \n",
    "    return I\n",
    "    \n",
    "end"
   ]
  },
  {
   "cell_type": "code",
   "execution_count": null,
   "id": "aaadd989",
   "metadata": {},
   "outputs": [],
   "source": [
    "@btime I = build_I4(shells)"
   ]
  },
  {
   "cell_type": "markdown",
   "id": "0d440012",
   "metadata": {},
   "source": [
    "## 2C ERIs"
   ]
  },
  {
   "cell_type": "code",
   "execution_count": null,
   "id": "8347eb14",
   "metadata": {},
   "outputs": [],
   "source": [
    "function normalize_aux_shell(g_a)\n",
    "    \n",
    "    g_1 = build_zero_shell()\n",
    "    \n",
    "    pairAB = build_shell_pair(g_a,g_1)\n",
    "    results = ERI(pairAB,pairAB)\n",
    "\n",
    "    N = diag(results[1:size(g_a.orientaciones)[1],1,1:size(g_a.orientaciones)[1],1])\n",
    "    N = 1.0 ./ (sqrt.(N))\n",
    "    \n",
    "    return N\n",
    "    \n",
    "    l = g_a.l\n",
    "    orientaciones = []\n",
    "    for lx in l:-1:0\n",
    "        for ly in l-lx:-1:0\n",
    "            lz = l-lx-ly\n",
    "            append!(orientaciones,[[lx,ly,lz]])      \n",
    "        end\n",
    "    end        \n",
    "    \n",
    "    aux_normalized_shell = shell(g_a.l,g_a.exp,g_a.coef,g_a.coord,N,orientaciones)\n",
    "    \n",
    "    return aux_normalized_shell\n",
    "    \n",
    "end\n",
    "\n",
    "function build_aux_shell(l,exp,coef,coord)\n",
    "\n",
    "    orientaciones = []\n",
    "    for lx in l:-1:0\n",
    "        for ly in l-lx:-1:0\n",
    "            lz = l-lx-ly\n",
    "            append!(orientaciones,[[lx,ly,lz]])      \n",
    "        end\n",
    "    end        \n",
    "\n",
    "    N = ones(Int((l+1)*(l+2)/2))\n",
    "\n",
    "    tmp_shell = shell(l, exp, coef, coord, N, orientaciones)\n",
    "\n",
    "    N = normalize_aux_shell(tmp_shell)    \n",
    "    \n",
    "    return shell(l, exp, coef, coord, N, orientaciones)\n",
    "    \n",
    "end"
   ]
  },
  {
   "cell_type": "code",
   "execution_count": null,
   "id": "45306393",
   "metadata": {
    "scrolled": true
   },
   "outputs": [],
   "source": [
    "shells_aux = build_basis(molecule,\"aug-cc-pvdz-jkfit\",normalized=false,auxiliar=true)"
   ]
  },
  {
   "cell_type": "code",
   "execution_count": null,
   "id": "636b19a4",
   "metadata": {},
   "outputs": [],
   "source": [
    "function build_I2(shells_aux)\n",
    "    \n",
    "    g_1 = build_zero_shell()\n",
    "    \n",
    "    nbfaux = get_nbf(shells_aux)\n",
    "    \n",
    "    I = zeros(nbfaux,nbfaux)\n",
    "    i = 1\n",
    "    for g_a in shells_aux\n",
    "        pairAB = build_shell_pair(g_a,g_1)\n",
    "        j = 1\n",
    "        for g_b in shells_aux\n",
    "            pairCD = build_shell_pair(g_b,g_1)\n",
    "            results = ERI(pairAB,pairCD)\n",
    "            I[i:i+size(g_a.orientaciones)[1]-1,\n",
    "              j:j+size(g_b.orientaciones)[1]-1] = results[1:size(g_a.orientaciones)[1],1,1:size(g_b.orientaciones)[1],1]\n",
    "            j += size(g_b.orientaciones)[1]\n",
    "        end\n",
    "        i += size(g_a.orientaciones)[1]\n",
    "    end\n",
    "    \n",
    "    return I\n",
    "    \n",
    "end"
   ]
  },
  {
   "cell_type": "code",
   "execution_count": null,
   "id": "b77c9b3e",
   "metadata": {},
   "outputs": [],
   "source": [
    "@btime I = build_I2(shells_aux)"
   ]
  },
  {
   "cell_type": "markdown",
   "id": "068e74e3",
   "metadata": {},
   "source": [
    "## 3C ERIs"
   ]
  },
  {
   "cell_type": "code",
   "execution_count": null,
   "id": "3dcad564",
   "metadata": {},
   "outputs": [],
   "source": [
    "function build_I3(shells,shells_aux)\n",
    "    \n",
    "    g_1 = build_zero_shell()\n",
    "    \n",
    "    nbf = get_nbf(shells)\n",
    "    nbfaux = get_nbf(shells_aux)\n",
    "    \n",
    "    I = zeros(nbf,nbf,nbfaux)\n",
    "    i = 1\n",
    "    for g_a in shells\n",
    "        j = 1\n",
    "        for g_b in shells\n",
    "            pairAB = build_shell_pair(g_a,g_b)\n",
    "            k = 1\n",
    "            for g_c in shells_aux\n",
    "                pairCD = build_shell_pair(g_c,g_1)\n",
    "                results = ERI(pairAB,pairCD)\n",
    "                I[i:i+size(g_a.orientaciones)[1]-1,\n",
    "                  j:j+size(g_b.orientaciones)[1]-1,\n",
    "                  k:k+size(g_c.orientaciones)[1]-1] = results[1:size(g_a.orientaciones)[1],1:size(g_b.orientaciones)[1],1:size(g_c.orientaciones)[1],1]\n",
    "                k += size(g_c.orientaciones)[1]\n",
    "            end\n",
    "            j += size(g_b.orientaciones)[1]\n",
    "        end\n",
    "        i += size(g_a.orientaciones)[1]\n",
    "    end\n",
    "    \n",
    "    return I\n",
    "    \n",
    "end"
   ]
  },
  {
   "cell_type": "code",
   "execution_count": null,
   "id": "244e3988",
   "metadata": {},
   "outputs": [],
   "source": [
    "@btime I = build_I3(shells,shells_aux)"
   ]
  }
 ],
 "metadata": {
  "kernelspec": {
   "display_name": "Julia 1.7.0",
   "language": "julia",
   "name": "julia-1.7"
  },
  "language_info": {
   "file_extension": ".jl",
   "mimetype": "application/julia",
   "name": "julia",
   "version": "1.7.0"
  }
 },
 "nbformat": 4,
 "nbformat_minor": 5
}
